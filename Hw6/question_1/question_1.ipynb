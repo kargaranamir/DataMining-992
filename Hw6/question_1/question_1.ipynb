{
 "cells": [
  {
   "cell_type": "code",
   "execution_count": 1,
   "metadata": {},
   "outputs": [],
   "source": [
    "import numpy as np\n",
    "import networkx as nx"
   ]
  },
  {
   "cell_type": "markdown",
   "metadata": {},
   "source": [
    "# Part 1.a"
   ]
  },
  {
   "cell_type": "markdown",
   "metadata": {},
   "source": [
    "#### Matrix M of Graph 1.a"
   ]
  },
  {
   "cell_type": "code",
   "execution_count": 2,
   "metadata": {},
   "outputs": [
    {
     "data": {
      "text/plain": [
       "array([[0, 1, 1, 1, 1],\n",
       "       [1, 0, 1, 1, 1],\n",
       "       [1, 1, 0, 1, 1],\n",
       "       [1, 1, 1, 0, 1],\n",
       "       [0, 0, 0, 0, 0]])"
      ]
     },
     "execution_count": 2,
     "metadata": {},
     "output_type": "execute_result"
    }
   ],
   "source": [
    "# A, B, C, D, E\n",
    "M = np.array ([[0, 1, 1, 1, 1], \n",
    "        [1, 0, 1, 1, 1],\n",
    "        [1, 1, 0, 1, 1],\n",
    "        [1, 1, 1, 0, 1],\n",
    "        [0, 0, 0, 0, 0]])\n",
    "M"
   ]
  },
  {
   "cell_type": "markdown",
   "metadata": {},
   "source": [
    "####  M.T"
   ]
  },
  {
   "cell_type": "code",
   "execution_count": 3,
   "metadata": {},
   "outputs": [
    {
     "data": {
      "text/plain": [
       "array([[0, 1, 1, 1, 0],\n",
       "       [1, 0, 1, 1, 0],\n",
       "       [1, 1, 0, 1, 0],\n",
       "       [1, 1, 1, 0, 0],\n",
       "       [1, 1, 1, 1, 0]])"
      ]
     },
     "execution_count": 3,
     "metadata": {},
     "output_type": "execute_result"
    }
   ],
   "source": [
    "M_T = M.T\n",
    "M_T"
   ]
  },
  {
   "cell_type": "markdown",
   "metadata": {},
   "source": [
    "####  M * M.T"
   ]
  },
  {
   "cell_type": "code",
   "execution_count": 4,
   "metadata": {},
   "outputs": [
    {
     "data": {
      "text/plain": [
       "array([[4, 3, 3, 3, 0],\n",
       "       [3, 4, 3, 3, 0],\n",
       "       [3, 3, 4, 3, 0],\n",
       "       [3, 3, 3, 4, 0],\n",
       "       [0, 0, 0, 0, 0]])"
      ]
     },
     "execution_count": 4,
     "metadata": {},
     "output_type": "execute_result"
    }
   ],
   "source": [
    "MM_T = np.matmul(M, M_T)\n",
    "MM_T"
   ]
  },
  {
   "cell_type": "markdown",
   "metadata": {},
   "source": [
    "####  M.T * M"
   ]
  },
  {
   "cell_type": "code",
   "execution_count": 5,
   "metadata": {},
   "outputs": [
    {
     "data": {
      "text/plain": [
       "array([[3, 2, 2, 2, 3],\n",
       "       [2, 3, 2, 2, 3],\n",
       "       [2, 2, 3, 2, 3],\n",
       "       [2, 2, 2, 3, 3],\n",
       "       [3, 3, 3, 3, 4]])"
      ]
     },
     "execution_count": 5,
     "metadata": {},
     "output_type": "execute_result"
    }
   ],
   "source": [
    "M_TM = np.matmul(M_T, M)\n",
    "M_TM"
   ]
  },
  {
   "cell_type": "markdown",
   "metadata": {},
   "source": [
    "#### h (round 1)"
   ]
  },
  {
   "cell_type": "code",
   "execution_count": 6,
   "metadata": {},
   "outputs": [
    {
     "data": {
      "text/plain": [
       "array([[1],\n",
       "       [1],\n",
       "       [1],\n",
       "       [1],\n",
       "       [1]])"
      ]
     },
     "execution_count": 6,
     "metadata": {},
     "output_type": "execute_result"
    }
   ],
   "source": [
    "h_1 = np.array([[1, 1, 1, 1, 1]]).T\n",
    "h_1"
   ]
  },
  {
   "cell_type": "markdown",
   "metadata": {},
   "source": [
    "#### a (round 1)"
   ]
  },
  {
   "cell_type": "code",
   "execution_count": 7,
   "metadata": {},
   "outputs": [
    {
     "data": {
      "text/plain": [
       "array([[1],\n",
       "       [1],\n",
       "       [1],\n",
       "       [1],\n",
       "       [1]])"
      ]
     },
     "execution_count": 7,
     "metadata": {},
     "output_type": "execute_result"
    }
   ],
   "source": [
    "a_1 = np.array([[1, 1, 1, 1, 1]]).T\n",
    "a_1"
   ]
  },
  {
   "cell_type": "markdown",
   "metadata": {},
   "source": [
    "#### h (round 2)"
   ]
  },
  {
   "cell_type": "code",
   "execution_count": 8,
   "metadata": {},
   "outputs": [
    {
     "data": {
      "text/plain": [
       "array([[1.],\n",
       "       [1.],\n",
       "       [1.],\n",
       "       [1.],\n",
       "       [0.]])"
      ]
     },
     "execution_count": 8,
     "metadata": {},
     "output_type": "execute_result"
    }
   ],
   "source": [
    "h_2 = np.matmul(MM_T, h_1)\n",
    "h_2 = h_2/max(h_2)\n",
    "h_2"
   ]
  },
  {
   "cell_type": "markdown",
   "metadata": {},
   "source": [
    "#### a (round 2)"
   ]
  },
  {
   "cell_type": "code",
   "execution_count": 9,
   "metadata": {},
   "outputs": [
    {
     "data": {
      "text/plain": [
       "array([[0.75],\n",
       "       [0.75],\n",
       "       [0.75],\n",
       "       [0.75],\n",
       "       [1.  ]])"
      ]
     },
     "execution_count": 9,
     "metadata": {},
     "output_type": "execute_result"
    }
   ],
   "source": [
    "a_2 = np.matmul(M_TM, a_1)\n",
    "a_2 = a_2/max(a_2)\n",
    "a_2"
   ]
  },
  {
   "cell_type": "markdown",
   "metadata": {},
   "source": [
    "#### h (round 3)"
   ]
  },
  {
   "cell_type": "code",
   "execution_count": 10,
   "metadata": {},
   "outputs": [
    {
     "data": {
      "text/plain": [
       "array([[1.],\n",
       "       [1.],\n",
       "       [1.],\n",
       "       [1.],\n",
       "       [0.]])"
      ]
     },
     "execution_count": 10,
     "metadata": {},
     "output_type": "execute_result"
    }
   ],
   "source": [
    "h_3 = np.matmul(MM_T, h_2)\n",
    "h_3 = h_3/max(h_3)\n",
    "h_3"
   ]
  },
  {
   "cell_type": "markdown",
   "metadata": {},
   "source": [
    "#### a (round 3)"
   ]
  },
  {
   "cell_type": "code",
   "execution_count": 11,
   "metadata": {},
   "outputs": [
    {
     "data": {
      "text/plain": [
       "array([[0.75],\n",
       "       [0.75],\n",
       "       [0.75],\n",
       "       [0.75],\n",
       "       [1.  ]])"
      ]
     },
     "execution_count": 11,
     "metadata": {},
     "output_type": "execute_result"
    }
   ],
   "source": [
    "a_3 = np.matmul(M_TM, a_2)\n",
    "a_3 = a_3/max(a_3)\n",
    "a_3"
   ]
  },
  {
   "cell_type": "markdown",
   "metadata": {},
   "source": [
    "## result \n",
    "- h (round 3) == h (round 2) \n",
    "- a (round 3) == a (round 2)  "
   ]
  },
  {
   "cell_type": "markdown",
   "metadata": {},
   "source": [
    "# Part 1.b"
   ]
  },
  {
   "cell_type": "markdown",
   "metadata": {},
   "source": [
    "#### normlized M"
   ]
  },
  {
   "cell_type": "code",
   "execution_count": 12,
   "metadata": {},
   "outputs": [
    {
     "data": {
      "text/plain": [
       "array([[0.  , 0.25, 0.25, 0.25, 0.  ],\n",
       "       [0.25, 0.  , 0.25, 0.25, 0.  ],\n",
       "       [0.25, 0.25, 0.  , 0.25, 0.  ],\n",
       "       [0.25, 0.25, 0.25, 0.  , 0.  ],\n",
       "       [0.25, 0.25, 0.25, 0.25, 0.  ]])"
      ]
     },
     "execution_count": 12,
     "metadata": {},
     "output_type": "execute_result"
    }
   ],
   "source": [
    "# A, B, C, D, E\n",
    "M = np.array ([[0, 1, 1, 1, 1], \n",
    "        [1, 0, 1, 1, 1],\n",
    "        [1, 1, 0, 1, 1],\n",
    "        [1, 1, 1, 0, 1],\n",
    "        [0, 0, 0, 0, 0]]).T\n",
    "\n",
    "# normlize M\n",
    "sums = M.sum(axis=0, keepdims=1)\n",
    "sums[sums==0] = 1\n",
    "\n",
    "M = M / sums\n",
    "M"
   ]
  },
  {
   "cell_type": "markdown",
   "metadata": {},
   "source": [
    "#### v"
   ]
  },
  {
   "cell_type": "code",
   "execution_count": 13,
   "metadata": {},
   "outputs": [
    {
     "data": {
      "text/plain": [
       "array([[0.2],\n",
       "       [0.2],\n",
       "       [0.2],\n",
       "       [0.2],\n",
       "       [0.2]])"
      ]
     },
     "execution_count": 13,
     "metadata": {},
     "output_type": "execute_result"
    }
   ],
   "source": [
    "v1 = (np.array([[1, 1, 1, 1, 1]])/5).T\n",
    "v1"
   ]
  },
  {
   "cell_type": "markdown",
   "metadata": {},
   "source": [
    "#### Page Rank v = M * v \n",
    "- Node E is deadend so we should revise this frormula with a tax \n",
    "- for 20% tax we have:  v = (1-0.2) M * v + 0.2 * e -> v = 0.8 M * v + 0.2 * 0.2\n"
   ]
  },
  {
   "cell_type": "markdown",
   "metadata": {},
   "source": [
    "#### v (round 2)"
   ]
  },
  {
   "cell_type": "code",
   "execution_count": 14,
   "metadata": {},
   "outputs": [
    {
     "data": {
      "text/plain": [
       "array([[0.16],\n",
       "       [0.16],\n",
       "       [0.16],\n",
       "       [0.16],\n",
       "       [0.2 ]])"
      ]
     },
     "execution_count": 14,
     "metadata": {},
     "output_type": "execute_result"
    }
   ],
   "source": [
    "v2 = 0.8 * np.matmul(M, v1) + 0.04\n",
    "v2"
   ]
  },
  {
   "cell_type": "markdown",
   "metadata": {},
   "source": [
    "#### v (round 3)"
   ]
  },
  {
   "cell_type": "code",
   "execution_count": 15,
   "metadata": {},
   "outputs": [
    {
     "data": {
      "text/plain": [
       "array([[0.136],\n",
       "       [0.136],\n",
       "       [0.136],\n",
       "       [0.136],\n",
       "       [0.168]])"
      ]
     },
     "execution_count": 15,
     "metadata": {},
     "output_type": "execute_result"
    }
   ],
   "source": [
    "v3 = 0.8 * np.matmul(M, v2) + 0.04\n",
    "v3"
   ]
  },
  {
   "cell_type": "markdown",
   "metadata": {},
   "source": [
    "#### Pagerank (after 52 round)"
   ]
  },
  {
   "cell_type": "code",
   "execution_count": 16,
   "metadata": {},
   "outputs": [
    {
     "name": "stdout",
     "output_type": "stream",
     "text": [
      "round v4:\n",
      " [[0.1216]\n",
      " [0.1216]\n",
      " [0.1216]\n",
      " [0.1216]\n",
      " [0.1488]] \n",
      "\n",
      "round v5:\n",
      " [[0.11296]\n",
      " [0.11296]\n",
      " [0.11296]\n",
      " [0.11296]\n",
      " [0.13728]] \n",
      "\n",
      "round v6:\n",
      " [[0.107776]\n",
      " [0.107776]\n",
      " [0.107776]\n",
      " [0.107776]\n",
      " [0.130368]] \n",
      "\n",
      "round v7:\n",
      " [[0.1046656]\n",
      " [0.1046656]\n",
      " [0.1046656]\n",
      " [0.1046656]\n",
      " [0.1262208]] \n",
      "\n",
      "round v8:\n",
      " [[0.10279936]\n",
      " [0.10279936]\n",
      " [0.10279936]\n",
      " [0.10279936]\n",
      " [0.12373248]] \n",
      "\n",
      "round v9:\n",
      " [[0.10167962]\n",
      " [0.10167962]\n",
      " [0.10167962]\n",
      " [0.10167962]\n",
      " [0.12223949]] \n",
      "\n",
      "round v10:\n",
      " [[0.10100777]\n",
      " [0.10100777]\n",
      " [0.10100777]\n",
      " [0.10100777]\n",
      " [0.12134369]] \n",
      "\n",
      "round v11:\n",
      " [[0.10060466]\n",
      " [0.10060466]\n",
      " [0.10060466]\n",
      " [0.10060466]\n",
      " [0.12080622]] \n",
      "\n",
      "round v12:\n",
      " [[0.1003628 ]\n",
      " [0.1003628 ]\n",
      " [0.1003628 ]\n",
      " [0.1003628 ]\n",
      " [0.12048373]] \n",
      "\n",
      "round v13:\n",
      " [[0.10021768]\n",
      " [0.10021768]\n",
      " [0.10021768]\n",
      " [0.10021768]\n",
      " [0.12029024]] \n",
      "\n",
      "round v14:\n",
      " [[0.10013061]\n",
      " [0.10013061]\n",
      " [0.10013061]\n",
      " [0.10013061]\n",
      " [0.12017414]] \n",
      "\n",
      "round v15:\n",
      " [[0.10007836]\n",
      " [0.10007836]\n",
      " [0.10007836]\n",
      " [0.10007836]\n",
      " [0.12010449]] \n",
      "\n",
      "round v16:\n",
      " [[0.10004702]\n",
      " [0.10004702]\n",
      " [0.10004702]\n",
      " [0.10004702]\n",
      " [0.12006269]] \n",
      "\n",
      "round v17:\n",
      " [[0.10002821]\n",
      " [0.10002821]\n",
      " [0.10002821]\n",
      " [0.10002821]\n",
      " [0.12003761]] \n",
      "\n",
      "round v18:\n",
      " [[0.10001693]\n",
      " [0.10001693]\n",
      " [0.10001693]\n",
      " [0.10001693]\n",
      " [0.12002257]] \n",
      "\n",
      "round v19:\n",
      " [[0.10001016]\n",
      " [0.10001016]\n",
      " [0.10001016]\n",
      " [0.10001016]\n",
      " [0.12001354]] \n",
      "\n",
      "round v20:\n",
      " [[0.10000609]\n",
      " [0.10000609]\n",
      " [0.10000609]\n",
      " [0.10000609]\n",
      " [0.12000812]] \n",
      "\n",
      "round v21:\n",
      " [[0.10000366]\n",
      " [0.10000366]\n",
      " [0.10000366]\n",
      " [0.10000366]\n",
      " [0.12000487]] \n",
      "\n",
      "round v22:\n",
      " [[0.10000219]\n",
      " [0.10000219]\n",
      " [0.10000219]\n",
      " [0.10000219]\n",
      " [0.12000292]] \n",
      "\n",
      "round v23:\n",
      " [[0.10000132]\n",
      " [0.10000132]\n",
      " [0.10000132]\n",
      " [0.10000132]\n",
      " [0.12000175]] \n",
      "\n",
      "round v24:\n",
      " [[0.10000079]\n",
      " [0.10000079]\n",
      " [0.10000079]\n",
      " [0.10000079]\n",
      " [0.12000105]] \n",
      "\n",
      "round v25:\n",
      " [[0.10000047]\n",
      " [0.10000047]\n",
      " [0.10000047]\n",
      " [0.10000047]\n",
      " [0.12000063]] \n",
      "\n",
      "round v26:\n",
      " [[0.10000028]\n",
      " [0.10000028]\n",
      " [0.10000028]\n",
      " [0.10000028]\n",
      " [0.12000038]] \n",
      "\n",
      "round v27:\n",
      " [[0.10000017]\n",
      " [0.10000017]\n",
      " [0.10000017]\n",
      " [0.10000017]\n",
      " [0.12000023]] \n",
      "\n",
      "round v28:\n",
      " [[0.1000001 ]\n",
      " [0.1000001 ]\n",
      " [0.1000001 ]\n",
      " [0.1000001 ]\n",
      " [0.12000014]] \n",
      "\n",
      "round v29:\n",
      " [[0.10000006]\n",
      " [0.10000006]\n",
      " [0.10000006]\n",
      " [0.10000006]\n",
      " [0.12000008]] \n",
      "\n",
      "round v30:\n",
      " [[0.10000004]\n",
      " [0.10000004]\n",
      " [0.10000004]\n",
      " [0.10000004]\n",
      " [0.12000005]] \n",
      "\n",
      "round v31:\n",
      " [[0.10000002]\n",
      " [0.10000002]\n",
      " [0.10000002]\n",
      " [0.10000002]\n",
      " [0.12000003]] \n",
      "\n",
      "round v32:\n",
      " [[0.10000001]\n",
      " [0.10000001]\n",
      " [0.10000001]\n",
      " [0.10000001]\n",
      " [0.12000002]] \n",
      "\n",
      "round v33:\n",
      " [[0.10000001]\n",
      " [0.10000001]\n",
      " [0.10000001]\n",
      " [0.10000001]\n",
      " [0.12000001]] \n",
      "\n",
      "round v34:\n",
      " [[0.1       ]\n",
      " [0.1       ]\n",
      " [0.1       ]\n",
      " [0.1       ]\n",
      " [0.12000001]] \n",
      "\n",
      "round v35:\n",
      " [[0.1 ]\n",
      " [0.1 ]\n",
      " [0.1 ]\n",
      " [0.1 ]\n",
      " [0.12]] \n",
      "\n",
      "round v36:\n",
      " [[0.1 ]\n",
      " [0.1 ]\n",
      " [0.1 ]\n",
      " [0.1 ]\n",
      " [0.12]] \n",
      "\n",
      "round v37:\n",
      " [[0.1 ]\n",
      " [0.1 ]\n",
      " [0.1 ]\n",
      " [0.1 ]\n",
      " [0.12]] \n",
      "\n",
      "round v38:\n",
      " [[0.1 ]\n",
      " [0.1 ]\n",
      " [0.1 ]\n",
      " [0.1 ]\n",
      " [0.12]] \n",
      "\n",
      "round v39:\n",
      " [[0.1 ]\n",
      " [0.1 ]\n",
      " [0.1 ]\n",
      " [0.1 ]\n",
      " [0.12]] \n",
      "\n",
      "round v40:\n",
      " [[0.1 ]\n",
      " [0.1 ]\n",
      " [0.1 ]\n",
      " [0.1 ]\n",
      " [0.12]] \n",
      "\n",
      "round v41:\n",
      " [[0.1 ]\n",
      " [0.1 ]\n",
      " [0.1 ]\n",
      " [0.1 ]\n",
      " [0.12]] \n",
      "\n",
      "round v42:\n",
      " [[0.1 ]\n",
      " [0.1 ]\n",
      " [0.1 ]\n",
      " [0.1 ]\n",
      " [0.12]] \n",
      "\n",
      "round v43:\n",
      " [[0.1 ]\n",
      " [0.1 ]\n",
      " [0.1 ]\n",
      " [0.1 ]\n",
      " [0.12]] \n",
      "\n",
      "round v44:\n",
      " [[0.1 ]\n",
      " [0.1 ]\n",
      " [0.1 ]\n",
      " [0.1 ]\n",
      " [0.12]] \n",
      "\n",
      "round v45:\n",
      " [[0.1 ]\n",
      " [0.1 ]\n",
      " [0.1 ]\n",
      " [0.1 ]\n",
      " [0.12]] \n",
      "\n",
      "round v46:\n",
      " [[0.1 ]\n",
      " [0.1 ]\n",
      " [0.1 ]\n",
      " [0.1 ]\n",
      " [0.12]] \n",
      "\n",
      "round v47:\n",
      " [[0.1 ]\n",
      " [0.1 ]\n",
      " [0.1 ]\n",
      " [0.1 ]\n",
      " [0.12]] \n",
      "\n",
      "round v48:\n",
      " [[0.1 ]\n",
      " [0.1 ]\n",
      " [0.1 ]\n",
      " [0.1 ]\n",
      " [0.12]] \n",
      "\n",
      "round v49:\n",
      " [[0.1 ]\n",
      " [0.1 ]\n",
      " [0.1 ]\n",
      " [0.1 ]\n",
      " [0.12]] \n",
      "\n",
      "round v50:\n",
      " [[0.1 ]\n",
      " [0.1 ]\n",
      " [0.1 ]\n",
      " [0.1 ]\n",
      " [0.12]] \n",
      "\n",
      "round v51:\n",
      " [[0.1 ]\n",
      " [0.1 ]\n",
      " [0.1 ]\n",
      " [0.1 ]\n",
      " [0.12]] \n",
      "\n",
      "round v52:\n",
      " [[0.1 ]\n",
      " [0.1 ]\n",
      " [0.1 ]\n",
      " [0.1 ]\n",
      " [0.12]] \n",
      "\n"
     ]
    }
   ],
   "source": [
    "threshold=1e-12\n",
    "max_iter = 1000\n",
    "count = 3\n",
    "v = v3\n",
    "v_before = v2\n",
    "while np.linalg.norm(v - v_before) >= threshold:\n",
    "        if (count> max_iter):\n",
    "            break\n",
    "        v_before = v\n",
    "        v = 0.8 * np.matmul(M, v_before) + 0.04\n",
    "        count +=1\n",
    "        print(f\"round v{count}:\\n {v} \\n\")"
   ]
  },
  {
   "cell_type": "markdown",
   "metadata": {},
   "source": [
    "#### Pagerank"
   ]
  },
  {
   "cell_type": "code",
   "execution_count": 17,
   "metadata": {},
   "outputs": [
    {
     "data": {
      "text/plain": [
       "array([[0.19230769],\n",
       "       [0.19230769],\n",
       "       [0.19230769],\n",
       "       [0.19230769],\n",
       "       [0.23076923]])"
      ]
     },
     "execution_count": 17,
     "metadata": {},
     "output_type": "execute_result"
    }
   ],
   "source": [
    "# normlize\n",
    "v_pagerank = v/sum(v)\n",
    "v_pagerank"
   ]
  },
  {
   "cell_type": "markdown",
   "metadata": {},
   "source": [
    "#### Trustrank (after 53 round)"
   ]
  },
  {
   "cell_type": "code",
   "execution_count": 18,
   "metadata": {},
   "outputs": [
    {
     "name": "stdout",
     "output_type": "stream",
     "text": [
      "round v2:\n",
      " [[0.12]\n",
      " [0.12]\n",
      " [0.12]\n",
      " [0.16]\n",
      " [0.16]] \n",
      "\n",
      "round v3:\n",
      " [[0.08 ]\n",
      " [0.08 ]\n",
      " [0.08 ]\n",
      " [0.112]\n",
      " [0.104]] \n",
      "\n",
      "round v4:\n",
      " [[0.0544]\n",
      " [0.0544]\n",
      " [0.0544]\n",
      " [0.088 ]\n",
      " [0.0704]] \n",
      "\n",
      "round v5:\n",
      " [[0.03936]\n",
      " [0.03936]\n",
      " [0.03936]\n",
      " [0.07264]\n",
      " [0.05024]] \n",
      "\n",
      "round v6:\n",
      " [[0.030272]\n",
      " [0.030272]\n",
      " [0.030272]\n",
      " [0.063616]\n",
      " [0.038144]] \n",
      "\n",
      "round v7:\n",
      " [[0.024832 ]\n",
      " [0.024832 ]\n",
      " [0.024832 ]\n",
      " [0.0581632]\n",
      " [0.0308864]] \n",
      "\n",
      "round v8:\n",
      " [[0.02156544]\n",
      " [0.02156544]\n",
      " [0.02156544]\n",
      " [0.0548992 ]\n",
      " [0.02653184]] \n",
      "\n",
      "round v9:\n",
      " [[0.01960602]\n",
      " [0.01960602]\n",
      " [0.01960602]\n",
      " [0.05293926]\n",
      " [0.0239191 ]] \n",
      "\n",
      "round v10:\n",
      " [[0.01843026]\n",
      " [0.01843026]\n",
      " [0.01843026]\n",
      " [0.05176361]\n",
      " [0.02235146]] \n",
      "\n",
      "round v11:\n",
      " [[0.01772483]\n",
      " [0.01772483]\n",
      " [0.01772483]\n",
      " [0.05105816]\n",
      " [0.02141088]] \n",
      "\n",
      "round v12:\n",
      " [[0.01730156]\n",
      " [0.01730156]\n",
      " [0.01730156]\n",
      " [0.0506349 ]\n",
      " [0.02084653]] \n",
      "\n",
      "round v13:\n",
      " [[0.0170476 ]\n",
      " [0.0170476 ]\n",
      " [0.0170476 ]\n",
      " [0.05038094]\n",
      " [0.02050792]] \n",
      "\n",
      "round v14:\n",
      " [[0.01689523]\n",
      " [0.01689523]\n",
      " [0.01689523]\n",
      " [0.05022856]\n",
      " [0.02030475]] \n",
      "\n",
      "round v15:\n",
      " [[0.0168038 ]\n",
      " [0.0168038 ]\n",
      " [0.0168038 ]\n",
      " [0.05013714]\n",
      " [0.02018285]] \n",
      "\n",
      "round v16:\n",
      " [[0.01674895]\n",
      " [0.01674895]\n",
      " [0.01674895]\n",
      " [0.05008228]\n",
      " [0.02010971]] \n",
      "\n",
      "round v17:\n",
      " [[0.01671604]\n",
      " [0.01671604]\n",
      " [0.01671604]\n",
      " [0.05004937]\n",
      " [0.02006583]] \n",
      "\n",
      "round v18:\n",
      " [[0.01669629]\n",
      " [0.01669629]\n",
      " [0.01669629]\n",
      " [0.05002962]\n",
      " [0.0200395 ]] \n",
      "\n",
      "round v19:\n",
      " [[0.01668444]\n",
      " [0.01668444]\n",
      " [0.01668444]\n",
      " [0.05001777]\n",
      " [0.0200237 ]] \n",
      "\n",
      "round v20:\n",
      " [[0.01667733]\n",
      " [0.01667733]\n",
      " [0.01667733]\n",
      " [0.05001066]\n",
      " [0.02001422]] \n",
      "\n",
      "round v21:\n",
      " [[0.01667306]\n",
      " [0.01667306]\n",
      " [0.01667306]\n",
      " [0.0500064 ]\n",
      " [0.02000853]] \n",
      "\n",
      "round v22:\n",
      " [[0.01667051]\n",
      " [0.01667051]\n",
      " [0.01667051]\n",
      " [0.05000384]\n",
      " [0.02000512]] \n",
      "\n",
      "round v23:\n",
      " [[0.01666897]\n",
      " [0.01666897]\n",
      " [0.01666897]\n",
      " [0.0500023 ]\n",
      " [0.02000307]] \n",
      "\n",
      "round v24:\n",
      " [[0.01666805]\n",
      " [0.01666805]\n",
      " [0.01666805]\n",
      " [0.05000138]\n",
      " [0.02000184]] \n",
      "\n",
      "round v25:\n",
      " [[0.0166675 ]\n",
      " [0.0166675 ]\n",
      " [0.0166675 ]\n",
      " [0.05000083]\n",
      " [0.02000111]] \n",
      "\n",
      "round v26:\n",
      " [[0.01666716]\n",
      " [0.01666716]\n",
      " [0.01666716]\n",
      " [0.0500005 ]\n",
      " [0.02000066]] \n",
      "\n",
      "round v27:\n",
      " [[0.01666697]\n",
      " [0.01666697]\n",
      " [0.01666697]\n",
      " [0.0500003 ]\n",
      " [0.0200004 ]] \n",
      "\n",
      "round v28:\n",
      " [[0.01666685]\n",
      " [0.01666685]\n",
      " [0.01666685]\n",
      " [0.05000018]\n",
      " [0.02000024]] \n",
      "\n",
      "round v29:\n",
      " [[0.01666677]\n",
      " [0.01666677]\n",
      " [0.01666677]\n",
      " [0.05000011]\n",
      " [0.02000014]] \n",
      "\n",
      "round v30:\n",
      " [[0.01666673]\n",
      " [0.01666673]\n",
      " [0.01666673]\n",
      " [0.05000006]\n",
      " [0.02000009]] \n",
      "\n",
      "round v31:\n",
      " [[0.01666671]\n",
      " [0.01666671]\n",
      " [0.01666671]\n",
      " [0.05000004]\n",
      " [0.02000005]] \n",
      "\n",
      "round v32:\n",
      " [[0.01666669]\n",
      " [0.01666669]\n",
      " [0.01666669]\n",
      " [0.05000002]\n",
      " [0.02000003]] \n",
      "\n",
      "round v33:\n",
      " [[0.01666668]\n",
      " [0.01666668]\n",
      " [0.01666668]\n",
      " [0.05000001]\n",
      " [0.02000002]] \n",
      "\n",
      "round v34:\n",
      " [[0.01666668]\n",
      " [0.01666668]\n",
      " [0.01666668]\n",
      " [0.05000001]\n",
      " [0.02000001]] \n",
      "\n",
      "round v35:\n",
      " [[0.01666667]\n",
      " [0.01666667]\n",
      " [0.01666667]\n",
      " [0.05000001]\n",
      " [0.02000001]] \n",
      "\n",
      "round v36:\n",
      " [[0.01666667]\n",
      " [0.01666667]\n",
      " [0.01666667]\n",
      " [0.05      ]\n",
      " [0.02      ]] \n",
      "\n",
      "round v37:\n",
      " [[0.01666667]\n",
      " [0.01666667]\n",
      " [0.01666667]\n",
      " [0.05      ]\n",
      " [0.02      ]] \n",
      "\n",
      "round v38:\n",
      " [[0.01666667]\n",
      " [0.01666667]\n",
      " [0.01666667]\n",
      " [0.05      ]\n",
      " [0.02      ]] \n",
      "\n",
      "round v39:\n",
      " [[0.01666667]\n",
      " [0.01666667]\n",
      " [0.01666667]\n",
      " [0.05      ]\n",
      " [0.02      ]] \n",
      "\n",
      "round v40:\n",
      " [[0.01666667]\n",
      " [0.01666667]\n",
      " [0.01666667]\n",
      " [0.05      ]\n",
      " [0.02      ]] \n",
      "\n",
      "round v41:\n",
      " [[0.01666667]\n",
      " [0.01666667]\n",
      " [0.01666667]\n",
      " [0.05      ]\n",
      " [0.02      ]] \n",
      "\n",
      "round v42:\n",
      " [[0.01666667]\n",
      " [0.01666667]\n",
      " [0.01666667]\n",
      " [0.05      ]\n",
      " [0.02      ]] \n",
      "\n",
      "round v43:\n",
      " [[0.01666667]\n",
      " [0.01666667]\n",
      " [0.01666667]\n",
      " [0.05      ]\n",
      " [0.02      ]] \n",
      "\n",
      "round v44:\n",
      " [[0.01666667]\n",
      " [0.01666667]\n",
      " [0.01666667]\n",
      " [0.05      ]\n",
      " [0.02      ]] \n",
      "\n",
      "round v45:\n",
      " [[0.01666667]\n",
      " [0.01666667]\n",
      " [0.01666667]\n",
      " [0.05      ]\n",
      " [0.02      ]] \n",
      "\n",
      "round v46:\n",
      " [[0.01666667]\n",
      " [0.01666667]\n",
      " [0.01666667]\n",
      " [0.05      ]\n",
      " [0.02      ]] \n",
      "\n",
      "round v47:\n",
      " [[0.01666667]\n",
      " [0.01666667]\n",
      " [0.01666667]\n",
      " [0.05      ]\n",
      " [0.02      ]] \n",
      "\n",
      "round v48:\n",
      " [[0.01666667]\n",
      " [0.01666667]\n",
      " [0.01666667]\n",
      " [0.05      ]\n",
      " [0.02      ]] \n",
      "\n",
      "round v49:\n",
      " [[0.01666667]\n",
      " [0.01666667]\n",
      " [0.01666667]\n",
      " [0.05      ]\n",
      " [0.02      ]] \n",
      "\n",
      "round v50:\n",
      " [[0.01666667]\n",
      " [0.01666667]\n",
      " [0.01666667]\n",
      " [0.05      ]\n",
      " [0.02      ]] \n",
      "\n",
      "round v51:\n",
      " [[0.01666667]\n",
      " [0.01666667]\n",
      " [0.01666667]\n",
      " [0.05      ]\n",
      " [0.02      ]] \n",
      "\n",
      "round v52:\n",
      " [[0.01666667]\n",
      " [0.01666667]\n",
      " [0.01666667]\n",
      " [0.05      ]\n",
      " [0.02      ]] \n",
      "\n",
      "round v53:\n",
      " [[0.01666667]\n",
      " [0.01666667]\n",
      " [0.01666667]\n",
      " [0.05      ]\n",
      " [0.02      ]] \n",
      "\n"
     ]
    }
   ],
   "source": [
    "threshold = 1e-12\n",
    "max_iter = 1000\n",
    "count = 1\n",
    "v = (np.array([[1, 1, 1, 1, 1]])/5).T\n",
    "v_before = np.array([[0, 0, 0, 0, 0]]).T\n",
    "\n",
    "while np.linalg.norm(v - v_before) >= threshold:\n",
    "        if (count> max_iter):\n",
    "            break\n",
    "        v_before = v\n",
    "        # D\n",
    "        v = 0.8 * np.matmul(M, v_before) + np.array([[0, 0, 0, 0.04, 0]]).T\n",
    "        count +=1\n",
    "        print(f\"round v{count}:\\n {v} \\n\")"
   ]
  },
  {
   "cell_type": "markdown",
   "metadata": {},
   "source": [
    "#### Trustrank"
   ]
  },
  {
   "cell_type": "code",
   "execution_count": 19,
   "metadata": {},
   "outputs": [
    {
     "data": {
      "text/plain": [
       "array([[0.13888889],\n",
       "       [0.13888889],\n",
       "       [0.13888889],\n",
       "       [0.41666667],\n",
       "       [0.16666667]])"
      ]
     },
     "execution_count": 19,
     "metadata": {},
     "output_type": "execute_result"
    }
   ],
   "source": [
    "# normlize\n",
    "v_trustrank = v/sum(v)\n",
    "v_trustrank"
   ]
  },
  {
   "cell_type": "markdown",
   "metadata": {},
   "source": [
    "#### Spam Mass (vp-vt)/vp"
   ]
  },
  {
   "cell_type": "code",
   "execution_count": 20,
   "metadata": {},
   "outputs": [
    {
     "data": {
      "text/plain": [
       "array([[ 0.27777778],\n",
       "       [ 0.27777778],\n",
       "       [ 0.27777778],\n",
       "       [-1.16666667],\n",
       "       [ 0.27777778]])"
      ]
     },
     "execution_count": 20,
     "metadata": {},
     "output_type": "execute_result"
    }
   ],
   "source": [
    "spam_mass = (v_pagerank - v_trustrank) / v_pagerank\n",
    "spam_mass"
   ]
  },
  {
   "cell_type": "markdown",
   "metadata": {},
   "source": [
    "# Part 2"
   ]
  },
  {
   "cell_type": "code",
   "execution_count": 21,
   "metadata": {},
   "outputs": [],
   "source": [
    "d = 3\n",
    "G = nx.balanced_tree(2, d, create_using=nx.DiGraph())\n",
    "# add loop\n",
    "G.add_edge(0,0)\n",
    "M = nx.convert_matrix.to_numpy_array(G)"
   ]
  },
  {
   "cell_type": "code",
   "execution_count": 22,
   "metadata": {},
   "outputs": [],
   "source": [
    "M_T = M.T\n",
    "MM_T = np.matmul(M, M_T)\n",
    "M_TM = np.matmul(M_T, M)\n"
   ]
  },
  {
   "cell_type": "code",
   "execution_count": 23,
   "metadata": {},
   "outputs": [],
   "source": [
    "h_1 = np.array([1]*(2 **(d+1)-1)).T\n",
    "a_1 = np.array([1]*(2 **(d+1)-1)).T\n"
   ]
  },
  {
   "cell_type": "markdown",
   "metadata": {},
   "source": [
    "#### h (round 2)"
   ]
  },
  {
   "cell_type": "code",
   "execution_count": 24,
   "metadata": {},
   "outputs": [
    {
     "data": {
      "text/plain": [
       "array([1.        , 0.66666667, 0.66666667, 0.66666667, 0.66666667,\n",
       "       0.66666667, 0.66666667, 0.        , 0.        , 0.        ,\n",
       "       0.        , 0.        , 0.        , 0.        , 0.        ])"
      ]
     },
     "execution_count": 24,
     "metadata": {},
     "output_type": "execute_result"
    }
   ],
   "source": [
    "h_2 = np.matmul(MM_T, h_1)\n",
    "h_2 = h_2/max(h_2)\n",
    "h_2"
   ]
  },
  {
   "cell_type": "markdown",
   "metadata": {},
   "source": [
    "#### a (round 2)"
   ]
  },
  {
   "cell_type": "code",
   "execution_count": 25,
   "metadata": {},
   "outputs": [
    {
     "data": {
      "text/plain": [
       "array([1.        , 1.        , 1.        , 0.66666667, 0.66666667,\n",
       "       0.66666667, 0.66666667, 0.66666667, 0.66666667, 0.66666667,\n",
       "       0.66666667, 0.66666667, 0.66666667, 0.66666667, 0.66666667])"
      ]
     },
     "execution_count": 25,
     "metadata": {},
     "output_type": "execute_result"
    }
   ],
   "source": [
    "a_2 = np.matmul(M_TM, a_1)\n",
    "a_2 = a_2/max(a_2)\n",
    "a_2"
   ]
  },
  {
   "cell_type": "markdown",
   "metadata": {},
   "source": [
    "#### h (round 3)"
   ]
  },
  {
   "cell_type": "code",
   "execution_count": 26,
   "metadata": {},
   "outputs": [
    {
     "data": {
      "text/plain": [
       "array([1.        , 0.44444444, 0.44444444, 0.44444444, 0.44444444,\n",
       "       0.44444444, 0.44444444, 0.        , 0.        , 0.        ,\n",
       "       0.        , 0.        , 0.        , 0.        , 0.        ])"
      ]
     },
     "execution_count": 26,
     "metadata": {},
     "output_type": "execute_result"
    }
   ],
   "source": [
    "h_3 = np.matmul(MM_T, h_2)\n",
    "h_3 = h_3/max(h_3)\n",
    "h_3"
   ]
  },
  {
   "cell_type": "markdown",
   "metadata": {},
   "source": [
    "#### a (round 3)"
   ]
  },
  {
   "cell_type": "code",
   "execution_count": 27,
   "metadata": {},
   "outputs": [
    {
     "data": {
      "text/plain": [
       "array([1.        , 1.        , 1.        , 0.44444444, 0.44444444,\n",
       "       0.44444444, 0.44444444, 0.44444444, 0.44444444, 0.44444444,\n",
       "       0.44444444, 0.44444444, 0.44444444, 0.44444444, 0.44444444])"
      ]
     },
     "execution_count": 27,
     "metadata": {},
     "output_type": "execute_result"
    }
   ],
   "source": [
    "a_3 = np.matmul(M_TM, a_2)\n",
    "a_3 = a_3/max(a_3)\n",
    "a_3"
   ]
  },
  {
   "cell_type": "markdown",
   "metadata": {},
   "source": [
    "#### h (round 4)"
   ]
  },
  {
   "cell_type": "code",
   "execution_count": 28,
   "metadata": {},
   "outputs": [
    {
     "data": {
      "text/plain": [
       "array([1.       , 0.2962963, 0.2962963, 0.2962963, 0.2962963, 0.2962963,\n",
       "       0.2962963, 0.       , 0.       , 0.       , 0.       , 0.       ,\n",
       "       0.       , 0.       , 0.       ])"
      ]
     },
     "execution_count": 28,
     "metadata": {},
     "output_type": "execute_result"
    }
   ],
   "source": [
    "h_4 = np.matmul(MM_T, h_3)\n",
    "h_4 = h_4/max(h_4)\n",
    "h_4"
   ]
  },
  {
   "cell_type": "markdown",
   "metadata": {},
   "source": [
    "#### a (round 4)"
   ]
  },
  {
   "cell_type": "code",
   "execution_count": 29,
   "metadata": {},
   "outputs": [
    {
     "data": {
      "text/plain": [
       "array([1.       , 1.       , 1.       , 0.2962963, 0.2962963, 0.2962963,\n",
       "       0.2962963, 0.2962963, 0.2962963, 0.2962963, 0.2962963, 0.2962963,\n",
       "       0.2962963, 0.2962963, 0.2962963])"
      ]
     },
     "execution_count": 29,
     "metadata": {},
     "output_type": "execute_result"
    }
   ],
   "source": [
    "a_4 = np.matmul(M_TM, a_3)\n",
    "a_4 = a_4/max(a_4)\n",
    "a_4"
   ]
  },
  {
   "cell_type": "markdown",
   "metadata": {},
   "source": [
    "#### ..."
   ]
  },
  {
   "cell_type": "code",
   "execution_count": 30,
   "metadata": {},
   "outputs": [],
   "source": [
    "h_i = h_4\n",
    "a_i = a_3\n",
    "for i in range(5, 100):\n",
    "    h_i = np.matmul(MM_T, h_i)\n",
    "    h_i = h_i/max(h_i)\n",
    "    a_i = np.matmul(M_TM, a_i)\n",
    "    a_i = a_i/max(a_i)"
   ]
  },
  {
   "cell_type": "markdown",
   "metadata": {},
   "source": [
    "#### h (round 99)"
   ]
  },
  {
   "cell_type": "code",
   "execution_count": 31,
   "metadata": {},
   "outputs": [
    {
     "data": {
      "text/plain": [
       "array([1.00000000e+00, 5.53422246e-18, 5.53422246e-18, 5.53422246e-18,\n",
       "       5.53422246e-18, 5.53422246e-18, 5.53422246e-18, 0.00000000e+00,\n",
       "       0.00000000e+00, 0.00000000e+00, 0.00000000e+00, 0.00000000e+00,\n",
       "       0.00000000e+00, 0.00000000e+00, 0.00000000e+00])"
      ]
     },
     "execution_count": 31,
     "metadata": {},
     "output_type": "execute_result"
    }
   ],
   "source": [
    "h_i"
   ]
  },
  {
   "cell_type": "markdown",
   "metadata": {},
   "source": [
    "#### a (round 99)"
   ]
  },
  {
   "cell_type": "code",
   "execution_count": 32,
   "metadata": {},
   "outputs": [
    {
     "data": {
      "text/plain": [
       "array([1.00000000e+00, 1.00000000e+00, 1.00000000e+00, 8.30133369e-18,\n",
       "       8.30133369e-18, 8.30133369e-18, 8.30133369e-18, 8.30133369e-18,\n",
       "       8.30133369e-18, 8.30133369e-18, 8.30133369e-18, 8.30133369e-18,\n",
       "       8.30133369e-18, 8.30133369e-18, 8.30133369e-18])"
      ]
     },
     "execution_count": 32,
     "metadata": {},
     "output_type": "execute_result"
    }
   ],
   "source": [
    "a_i"
   ]
  },
  {
   "cell_type": "markdown",
   "metadata": {},
   "source": [
    "## result \n",
    "- h = [1, 0, 0, ..., 0].T\n",
    "- a = [1, 1, 1, 0, 0, ..., 0].T"
   ]
  }
 ],
 "metadata": {
  "kernelspec": {
   "display_name": "Python 3",
   "language": "python",
   "name": "python3"
  },
  "language_info": {
   "codemirror_mode": {
    "name": "ipython",
    "version": 3
   },
   "file_extension": ".py",
   "mimetype": "text/x-python",
   "name": "python",
   "nbconvert_exporter": "python",
   "pygments_lexer": "ipython3",
   "version": "3.6.5"
  }
 },
 "nbformat": 4,
 "nbformat_minor": 2
}
