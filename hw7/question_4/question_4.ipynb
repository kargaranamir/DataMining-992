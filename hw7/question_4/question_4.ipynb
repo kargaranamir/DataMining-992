{
 "cells": [
  {
   "cell_type": "markdown",
   "metadata": {},
   "source": [
    "## Amirhossein Kargaran Khouzani"
   ]
  },
  {
   "cell_type": "markdown",
   "metadata": {},
   "source": [
    "## Import Libraries"
   ]
  },
  {
   "cell_type": "code",
   "execution_count": 1,
   "metadata": {},
   "outputs": [],
   "source": [
    "import math\n",
    "import numpy as np\n",
    "import random\n",
    "from mmh3 import hash as hash2\n",
    "import os"
   ]
  },
  {
   "cell_type": "markdown",
   "metadata": {},
   "source": [
    "## Part 1\n",
    "- due to the need high computation and time i choose papram_3 less than what expected"
   ]
  },
  {
   "cell_type": "code",
   "execution_count": 2,
   "metadata": {},
   "outputs": [],
   "source": [
    "param_1 = 1000000\n",
    "param_2 = 20000\n",
    "param_3 = 100000\n",
    "\n",
    "random_space = random.sample(range(1, param_1), param_2)\n",
    "stream = [random.choice(random_space) for i in range(param_3)]"
   ]
  },
  {
   "cell_type": "markdown",
   "metadata": {},
   "source": [
    "## Part 2"
   ]
  },
  {
   "cell_type": "code",
   "execution_count": 3,
   "metadata": {},
   "outputs": [],
   "source": [
    "def count_zeros(n):\n",
    "    s = bin(n).replace(\"0b\", \"\")\n",
    "    return len(s) - len(s.rstrip('0'))\n",
    "    \n",
    "\n",
    "def distinct_estimation(stream, seed, cat):\n",
    "\n",
    "    max_zeros = [0] * seed\n",
    "\n",
    "    for number in stream:\n",
    "        for i in range(0, seed):\n",
    "            max_zeros[i] = max(max_zeros[i], count_zeros(hash2(str(number), i, signed=False))) \n",
    "    \n",
    "    print(max_zeros)\n",
    "    list_median = []\n",
    "    size = seed//cat\n",
    "    for i in range(0, cat):\n",
    "        list_median.append(np.mean(max_zeros[i * size: (i+1) * size]))\n",
    "    \n",
    "    power = np.median(list_median)\n",
    "    return 2 ** int(power)\n",
    "    \n"
   ]
  },
  {
   "cell_type": "code",
   "execution_count": 4,
   "metadata": {},
   "outputs": [
    {
     "name": "stdout",
     "output_type": "stream",
     "text": [
      "[15, 15, 15, 15, 21, 14, 14, 13, 14, 18, 20, 14, 13, 13, 14, 15, 13, 17, 14, 13, 16]\n"
     ]
    },
    {
     "data": {
      "text/plain": [
       "32768"
      ]
     },
     "execution_count": 4,
     "metadata": {},
     "output_type": "execute_result"
    }
   ],
   "source": [
    "distinct_estimation(stream, 21, 3)"
   ]
  },
  {
   "cell_type": "markdown",
   "metadata": {},
   "source": [
    "## Part 3"
   ]
  },
  {
   "cell_type": "code",
   "execution_count": 5,
   "metadata": {},
   "outputs": [],
   "source": [
    "def exact_2nd_moment(stream):\n",
    "    d = {}\n",
    "    for number in stream:\n",
    "        d[number] = d.get(number, 0) + 1\n",
    "    return sum(x ** 2  for x in d.values())"
   ]
  },
  {
   "cell_type": "code",
   "execution_count": 6,
   "metadata": {},
   "outputs": [
    {
     "data": {
      "text/plain": [
       "601768"
      ]
     },
     "execution_count": 6,
     "metadata": {},
     "output_type": "execute_result"
    }
   ],
   "source": [
    "exact_2nd_moment(stream)"
   ]
  },
  {
   "cell_type": "code",
   "execution_count": 7,
   "metadata": {},
   "outputs": [],
   "source": [
    "def alon_matias_szegedy(stream, number_of_approx):\n",
    "    d = {}\n",
    "    n = len(stream)\n",
    "    indices = sorted(random.sample(range(0, n),number_of_approx))\n",
    "    \n",
    "    for i in range(0,n):\n",
    "        if i in indices:\n",
    "            if stream[i] not in d:\n",
    "                d[stream[i]] = 0\n",
    "        if stream[i] in d:\n",
    "            d[stream[i]] = d.get(stream[i], 0) + 1\n",
    "    return int(n / len(d) * sum((2 * x - 1) for x in d.values()))"
   ]
  },
  {
   "cell_type": "code",
   "execution_count": 8,
   "metadata": {},
   "outputs": [
    {
     "data": {
      "text/plain": [
       "594949"
      ]
     },
     "execution_count": 8,
     "metadata": {},
     "output_type": "execute_result"
    }
   ],
   "source": [
    "alon_matias_szegedy(stream, 100)"
   ]
  }
 ],
 "metadata": {
  "kernelspec": {
   "display_name": "Python 3",
   "language": "python",
   "name": "python3"
  },
  "language_info": {
   "codemirror_mode": {
    "name": "ipython",
    "version": 3
   },
   "file_extension": ".py",
   "mimetype": "text/x-python",
   "name": "python",
   "nbconvert_exporter": "python",
   "pygments_lexer": "ipython3",
   "version": "3.6.5"
  }
 },
 "nbformat": 4,
 "nbformat_minor": 2
}
