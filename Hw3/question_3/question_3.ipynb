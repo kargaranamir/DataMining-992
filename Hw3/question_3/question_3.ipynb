{
 "cells": [
  {
   "cell_type": "markdown",
   "metadata": {},
   "source": [
    "# Question 3\n",
    "Name: AmirHossein Kargaran Khouzani\n",
    "<br>\n",
    "Student Number: 99201119"
   ]
  },
  {
   "cell_type": "markdown",
   "metadata": {},
   "source": [
    "## part 1,2"
   ]
  },
  {
   "cell_type": "code",
   "execution_count": 1,
   "metadata": {},
   "outputs": [],
   "source": [
    "import numpy as np\n",
    "import time"
   ]
  },
  {
   "cell_type": "code",
   "execution_count": 2,
   "metadata": {},
   "outputs": [],
   "source": [
    "def create_fake_data(N, d):\n",
    "    # returns X array with shape (N, d)\n",
    "    return 100 * np.random.rand(N, d)\n",
    "    \n",
    "\n",
    "def cosine_distance(x, y):\n",
    "    # returns cosine distance between x and y\n",
    "    if x.shape != y.shape:\n",
    "        raise RuntimeError(\"input {} length not match {}\".format(x.shape, y.shape))\n",
    "    x_norm = np.linalg.norm(x)\n",
    "    y_norm = np.linalg.norm(y)\n",
    "    \n",
    "    similiarity = np.dot(x, y.T)/(x_norm * y_norm) \n",
    "    distance = 1 - similiarity\n",
    "    return distance\n",
    "    \n",
    "\n",
    "def find_k_nearest_neighbours(X, q, k):\n",
    "    # returns k-nearest-neighbours of vector q (least distance with vector q)\n",
    "    X_splitted = np.array_split(X, X.shape[0])\n",
    "    return sorted(X_splitted, key = lambda v: cosine_distance(v, q))[:k]"
   ]
  },
  {
   "cell_type": "markdown",
   "metadata": {},
   "source": [
    "### part 2.2: speed of computation for k = 20, N=10000, d=200"
   ]
  },
  {
   "cell_type": "code",
   "execution_count": 3,
   "metadata": {},
   "outputs": [
    {
     "data": {
      "text/plain": [
       "0.18825054168701172"
      ]
     },
     "execution_count": 3,
     "metadata": {},
     "output_type": "execute_result"
    }
   ],
   "source": [
    "N = 10000\n",
    "d = 200\n",
    "k = 20\n",
    "X = create_fake_data(N, d)\n",
    "q = create_fake_data(1, d)\n",
    "\n",
    "start_time = time.time()\n",
    "find_k_nearest_neighbours(X, q, k)\n",
    "(time.time() - start_time)"
   ]
  },
  {
   "cell_type": "markdown",
   "metadata": {},
   "source": [
    "## part 3 "
   ]
  },
  {
   "cell_type": "code",
   "execution_count": 4,
   "metadata": {},
   "outputs": [],
   "source": [
    "class Signer:\n",
    "    def __init__(self, f, d):\n",
    "        # initiates f random vectors with dimension = d\n",
    "        self.hyper_planes = []\n",
    "        for i in range(0,f):\n",
    "            h = np.random.uniform(low = -1.0, size = d)\n",
    "            self.hyper_planes.append(h / np.linalg.norm(h))\n",
    "        \n",
    "    def hash_point(self, x):\n",
    "        # returns list of numbers in {0, 1} -> right and left can be determined by inner product\n",
    "        return [1 if np.dot(x, h) >= 0 else 0 for h in self.hyper_planes]"
   ]
  },
  {
   "cell_type": "markdown",
   "metadata": {},
   "source": [
    "## part 4"
   ]
  },
  {
   "cell_type": "code",
   "execution_count": 5,
   "metadata": {},
   "outputs": [],
   "source": [
    "class LSHIndex:\n",
    "    def __init__(self, f, b, d):\n",
    "        # initiates empty hash tables  \n",
    "        self.b = b\n",
    "        self.r = f // self.b\n",
    "        self.f = self.r * self.b\n",
    "        self.signer_object = Signer(self.f, d)\n",
    "        self.hash_table = {k: {} for k in range(0, self.f, self.r)}\n",
    "        self.X = {}\n",
    "   \n",
    "    def index(self, key, x):\n",
    "        # returns a boolean True, indicating success\n",
    "        self.X[key] = x\n",
    "        hash_point = self.signer_object.hash_point(x)\n",
    "        \n",
    "        for b_index in range(0, self.f, self.r):\n",
    "            next_b_index = b_index + self.r\n",
    "            b_key = ''.join(map(str, hash_point[b_index : next_b_index]))\n",
    "            \n",
    "            try:\n",
    "                self.hash_table[b_index][b_key].add(key)\n",
    "            except:\n",
    "                self.hash_table[b_index][b_key] = set()\n",
    "                self.hash_table[b_index][b_key].add(key)\n",
    "          \n",
    "        return True\n",
    "    \n",
    "    def query(self, q, k):\n",
    "        # returns k-approximate-nearest-neighbours of vector q\n",
    "        hash_point_q = self.signer_object.hash_point(q)\n",
    "        key_candidates = set()\n",
    "        \n",
    "        for b_index in range(0, self.f, self.r):\n",
    "            next_b_index = b_index + self.r\n",
    "            b_key = ''.join(map(str, hash_point_q[b_index : next_b_index]))\n",
    "\n",
    "            if(b_key in self.hash_table[b_index]):\n",
    "                key_candidates = key_candidates.union(self.hash_table[b_index][b_key])\n",
    "\n",
    "        X = np.array([self.X[key] for key in key_candidates])\n",
    "        return find_k_nearest_neighbours(X, q, k)"
   ]
  },
  {
   "cell_type": "markdown",
   "metadata": {},
   "source": [
    "## variables"
   ]
  },
  {
   "cell_type": "code",
   "execution_count": 6,
   "metadata": {},
   "outputs": [],
   "source": [
    "N = 100000 #100000\n",
    "d = 300 #300\n",
    "k = 20\n",
    "\n",
    "b = 10 #20\n",
    "r = 10 #5\n",
    "f = b * r #100\n",
    "\n",
    "X = create_fake_data(N, d)\n",
    "q = create_fake_data(1, d)\n",
    "\n",
    "iteration = 1"
   ]
  },
  {
   "cell_type": "markdown",
   "metadata": {},
   "source": [
    "پس از انجام عملیات ایندکس کردن و زدن کوئری مشاهده می شود که تعداد کلید های مجموعه کاندید از تعداد اولیه کمتر می شود در نتیجه اگر پیاده سازی مناسب باشد و سرباری اضافه ایجاد نکند آنگاه صدا زدن تابع پیدا کردن کا همسایه نزدیک بر روی مجموعه کوچکتری اعمال می شود بدین ترتیب زمان بهبود می یابد\n",
    "\n",
    "\n",
    "در زیر اجرایی از هر دو روش بروت فورس و ال اس اچ مشاهده می شود که در روش ال اس اچ تعداد کلید های کاندید کمتر از مقدار اولیه است و در نتیجه زمان بهتری را ارائه می دهد\n",
    "اما خب ممکن است که به اندازه بروت فورس دقیق نباشد و مقدار خطا در زیر حساب شده است"
   ]
  },
  {
   "cell_type": "markdown",
   "metadata": {},
   "source": [
    "## lsh speed"
   ]
  },
  {
   "cell_type": "code",
   "execution_count": 7,
   "metadata": {},
   "outputs": [
    {
     "data": {
      "text/plain": [
       "1.0832383632659912"
      ]
     },
     "execution_count": 7,
     "metadata": {},
     "output_type": "execute_result"
    }
   ],
   "source": [
    "lsh_model = LSHIndex(f, b, d)\n",
    "for index, value in enumerate(X):\n",
    "    lsh_model.index(index, value)\n",
    "    \n",
    "start_time = time.time()\n",
    "result1 = lsh_model.query(q, k)\n",
    "time.time() - start_time"
   ]
  },
  {
   "cell_type": "markdown",
   "metadata": {},
   "source": [
    "## bruteforce speed"
   ]
  },
  {
   "cell_type": "code",
   "execution_count": 8,
   "metadata": {},
   "outputs": [
    {
     "data": {
      "text/plain": [
       "2.206688642501831"
      ]
     },
     "execution_count": 8,
     "metadata": {},
     "output_type": "execute_result"
    }
   ],
   "source": [
    "start_time = time.time()\n",
    "result2 = find_k_nearest_neighbours(X, q, k)    \n",
    "time.time() - start_time"
   ]
  },
  {
   "cell_type": "markdown",
   "metadata": {},
   "source": [
    "## error"
   ]
  },
  {
   "cell_type": "code",
   "execution_count": 9,
   "metadata": {},
   "outputs": [
    {
     "data": {
      "text/plain": [
       "array([[0.00258825]])"
      ]
     },
     "execution_count": 9,
     "metadata": {},
     "output_type": "execute_result"
    }
   ],
   "source": [
    "total_error = 0.0\n",
    "for i,j in zip(result1, result2):\n",
    "    total_error += abs(cosine_distance(i, q)-cosine_distance(j, q))\n",
    "    \n",
    "total_error/k"
   ]
  }
 ],
 "metadata": {
  "kernelspec": {
   "display_name": "Python 3",
   "language": "python",
   "name": "python3"
  },
  "language_info": {
   "codemirror_mode": {
    "name": "ipython",
    "version": 3
   },
   "file_extension": ".py",
   "mimetype": "text/x-python",
   "name": "python",
   "nbconvert_exporter": "python",
   "pygments_lexer": "ipython3",
   "version": "3.8.8"
  }
 },
 "nbformat": 4,
 "nbformat_minor": 4
}
