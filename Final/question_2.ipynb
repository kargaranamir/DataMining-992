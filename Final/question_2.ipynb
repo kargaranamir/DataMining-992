{
 "cells": [
  {
   "cell_type": "code",
   "execution_count": 1,
   "metadata": {},
   "outputs": [],
   "source": [
    "input_range = range(0,31)\n",
    "size = 17"
   ]
  },
  {
   "cell_type": "code",
   "execution_count": 2,
   "metadata": {},
   "outputs": [],
   "source": [
    "# fibonacci \n",
    "def Fibonacci(x):\n",
    "    if x < 0:\n",
    "        print(\"Incorrect\")\n",
    "    elif x == 0:\n",
    "        return 0\n",
    "    elif x == 1 or x == 2:\n",
    "        return 1\n",
    "    else:\n",
    "        return Fibonacci(x-1) + Fibonacci(x-2)"
   ]
  },
  {
   "cell_type": "code",
   "execution_count": 3,
   "metadata": {},
   "outputs": [],
   "source": [
    "# a function to generate a stram of fibonacci\n",
    "def Stream(x):\n",
    "    fibo_stream = [Fibonacci(i) for i in range(0, x)] \n",
    "    return fibo_stream"
   ]
  },
  {
   "cell_type": "code",
   "execution_count": 4,
   "metadata": {},
   "outputs": [],
   "source": [
    "# Hash Functions\n",
    "def Hash1(x, n):\n",
    "    return (3 * x) % n\n",
    "\n",
    "def Hash2(x, n):\n",
    "    return (7 * x) % n\n"
   ]
  },
  {
   "cell_type": "code",
   "execution_count": 5,
   "metadata": {},
   "outputs": [],
   "source": [
    "# Make a Bloom filter initial\n",
    "def Make_Bloom(n):\n",
    "    return [0] * n\n"
   ]
  },
  {
   "cell_type": "code",
   "execution_count": 6,
   "metadata": {},
   "outputs": [],
   "source": [
    "# Insert to bloom\n",
    "def Bloom_Insert(bloom_filter, x):\n",
    "    bloom_filter[Hash1(x, size)], bloom_filter[Hash2(x, size)] = 1,1\n",
    "    return bloom_filter"
   ]
  },
  {
   "cell_type": "code",
   "execution_count": 7,
   "metadata": {},
   "outputs": [],
   "source": [
    "# check if x is in the bloom filter list \n",
    "def Bloom_Check(bloom_filter, x):\n",
    "    return bloom_filter[Hash1(x, size)] and bloom_filter[Hash2(x, size)]"
   ]
  },
  {
   "cell_type": "code",
   "execution_count": 8,
   "metadata": {},
   "outputs": [],
   "source": [
    "# Main \n",
    "# Add\n",
    "bloom_filter = Make_Bloom(size)\n",
    "\n",
    "for i in input_range:\n",
    "    fibo = Fibonacci(i)\n",
    "    if fibo in input_range:\n",
    "        bloom_filter = Bloom_Insert(bloom_filter, fibo)"
   ]
  },
  {
   "cell_type": "code",
   "execution_count": 9,
   "metadata": {},
   "outputs": [
    {
     "data": {
      "text/plain": [
       "[1, 1, 0, 1, 1, 1, 1, 1, 0, 1, 0, 1, 1, 0, 1, 1, 0]"
      ]
     },
     "execution_count": 9,
     "metadata": {},
     "output_type": "execute_result"
    }
   ],
   "source": [
    "# Filter\n",
    "bloom_filter"
   ]
  },
  {
   "cell_type": "code",
   "execution_count": 10,
   "metadata": {},
   "outputs": [
    {
     "name": "stdout",
     "output_type": "stream",
     "text": [
      "input:0 Check:1\n",
      "input:1 Check:1\n",
      "input:2 Check:1\n",
      "input:3 Check:1\n",
      "input:4 Check:1\n",
      "input:5 Check:1\n",
      "input:6 Check:0\n",
      "input:7 Check:1\n",
      "input:8 Check:1\n",
      "input:9 Check:0\n",
      "input:10 Check:0\n",
      "input:11 Check:0\n",
      "input:12 Check:0\n",
      "input:13 Check:1\n",
      "input:14 Check:0\n",
      "input:15 Check:1\n",
      "input:16 Check:0\n",
      "input:17 Check:1\n",
      "input:18 Check:1\n",
      "input:19 Check:1\n",
      "input:20 Check:1\n",
      "input:21 Check:1\n",
      "input:22 Check:1\n",
      "input:23 Check:0\n",
      "input:24 Check:1\n",
      "input:25 Check:1\n",
      "input:26 Check:0\n",
      "input:27 Check:0\n",
      "input:28 Check:0\n",
      "input:29 Check:0\n",
      "input:30 Check:1\n"
     ]
    }
   ],
   "source": [
    "# Check with check function\n",
    "for i in input_range:\n",
    "    print(f'input:{i} Check:{Bloom_Check(bloom_filter, i)}')"
   ]
  }
 ],
 "metadata": {
  "kernelspec": {
   "display_name": "Python 3",
   "language": "python",
   "name": "python3"
  },
  "language_info": {
   "codemirror_mode": {
    "name": "ipython",
    "version": 3
   },
   "file_extension": ".py",
   "mimetype": "text/x-python",
   "name": "python",
   "nbconvert_exporter": "python",
   "pygments_lexer": "ipython3",
   "version": "3.6.5"
  }
 },
 "nbformat": 4,
 "nbformat_minor": 2
}
