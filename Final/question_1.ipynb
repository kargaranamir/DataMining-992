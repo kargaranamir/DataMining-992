{
 "cells": [
  {
   "cell_type": "code",
   "execution_count": 1,
   "metadata": {},
   "outputs": [],
   "source": [
    "import math\n",
    "import numpy as np\n",
    "import pandas as pd\n",
    "import random\n",
    "from mmh3 import hash as hash2\n",
    "import os"
   ]
  },
  {
   "cell_type": "code",
   "execution_count": 2,
   "metadata": {},
   "outputs": [],
   "source": [
    "# ! unzip data.csv.zip"
   ]
  },
  {
   "cell_type": "code",
   "execution_count": 3,
   "metadata": {},
   "outputs": [],
   "source": [
    "df = pd.read_csv('data.csv')"
   ]
  },
  {
   "cell_type": "markdown",
   "metadata": {},
   "source": [
    "## Moment 0"
   ]
  },
  {
   "cell_type": "code",
   "execution_count": 4,
   "metadata": {},
   "outputs": [
    {
     "name": "stdout",
     "output_type": "stream",
     "text": [
      " ground truth: 135268\n"
     ]
    }
   ],
   "source": [
    "print(f' ground truth: {len(np.unique(df.host))}')"
   ]
  },
  {
   "cell_type": "code",
   "execution_count": 5,
   "metadata": {},
   "outputs": [],
   "source": [
    "def count_zeros(n):\n",
    "    s = bin(n).replace(\"0b\", \"\")\n",
    "    return len(s) - len(s.rstrip('0'))\n",
    "\n",
    "\n",
    "def flajolet_martin(stream, no_hashes, cats):\n",
    "    max_zeros = [[0 for i in range(no_hashes)] for j in range(cats)]\n",
    "    seeds = [[random.randint(1, no_hashes * cats * 100) for i in range(no_hashes)] for j in range(cats)]\n",
    "    \n",
    "    for number in stream:\n",
    "        for i in range(cats):\n",
    "            for j in range(no_hashes):\n",
    "                max_zeros[i][j] = max(max_zeros[i][j], count_zeros(hash2(str(number), seeds[i][j], signed = False))) \n",
    "    \n",
    "    list_median = []\n",
    "    for i in range(0, cats):\n",
    "        list_median.append(np.mean(max_zeros[i]))\n",
    "    \n",
    "    power = np.median(list_median)\n",
    "    return 2 ** int(power)"
   ]
  },
  {
   "cell_type": "code",
   "execution_count": 6,
   "metadata": {},
   "outputs": [
    {
     "name": "stdout",
     "output_type": "stream",
     "text": [
      "L:4, G:2, 262144\n",
      "L:4, G:1, 131072\n",
      "L:8, G:2, 131072\n",
      "L:8, G:4, 131072\n"
     ]
    }
   ],
   "source": [
    "for L,G in zip([4, 4, 8 , 8],[2, 1, 2, 4]):\n",
    "    print(f'L:{L}, G:{G}, {distinct_estimation(df.host, L , G)}')"
   ]
  },
  {
   "cell_type": "code",
   "execution_count": null,
   "metadata": {},
   "outputs": [],
   "source": [
    "for L,G in zip([2, 1, 2, 4],[4, 4, 8 , 8]):\n",
    "    print(f'L:{L}, G:{G}, {distinct_estimation(df.host, L , G)}')"
   ]
  },
  {
   "cell_type": "markdown",
   "metadata": {},
   "source": [
    "## Moment 2"
   ]
  },
  {
   "cell_type": "code",
   "execution_count": 11,
   "metadata": {},
   "outputs": [],
   "source": [
    "def exact_2nd_moment(stream):\n",
    "    d = {}\n",
    "    for number in stream:\n",
    "        d[number] = d.get(number, 0) + 1\n",
    "    return sum(x ** 2  for x in d.values())"
   ]
  },
  {
   "cell_type": "code",
   "execution_count": 12,
   "metadata": {},
   "outputs": [
    {
     "name": "stdout",
     "output_type": "stream",
     "text": [
      " ground truth: 2385064517\n"
     ]
    }
   ],
   "source": [
    "print(f' ground truth: {exact_2nd_moment(df.host)}')"
   ]
  },
  {
   "cell_type": "code",
   "execution_count": 10,
   "metadata": {},
   "outputs": [],
   "source": [
    "def alon_matias_szegedy(stream, no_blocks, cats):\n",
    "    d = []\n",
    "    for i in range(cats):\n",
    "        d.append([])\n",
    "    time = 0\n",
    "\n",
    "    for stream_item in stream:\n",
    "        time += 1\n",
    "        for i in range(cats):\n",
    "            block_items = []\n",
    "            indexes = []\n",
    "            \n",
    "            for count in d[i]:\n",
    "                if count['el'] == stream_item:\n",
    "                    count['val'] += 1\n",
    "                    break\n",
    "            else:\n",
    "                if len(d[i]) < no_blocks:\n",
    "                    d[i].append({'el': stream_item, 'val': 1})\n",
    "                elif random.random() < no_blocks / time:\n",
    "                    d[i][random.randint(0, len(d[i]) - 1)] = {'el': stream_item, 'val': 1}\n",
    "\n",
    "    return int(np.median([np.mean([time * (2 * x['val'] - 1) for x in count]) for count in d]))"
   ]
  },
  {
   "cell_type": "code",
   "execution_count": 14,
   "metadata": {},
   "outputs": [
    {
     "name": "stdout",
     "output_type": "stream",
     "text": [
      "2463063102\n"
     ]
    }
   ],
   "source": [
    "alon_matias_szegedy(df.host, 100 , 5)"
   ]
  },
  {
   "cell_type": "code",
   "execution_count": null,
   "metadata": {},
   "outputs": [],
   "source": [
    "for L,G in zip([50, 100, 200, 300 , 400],[5, 5, 5, 5, 5]):\n",
    "    print(f'L:{L}, G:{G}, {alon_matias_szegedy(df.host, L , G)}')\n",
    "    "
   ]
  },
  {
   "cell_type": "code",
   "execution_count": null,
   "metadata": {},
   "outputs": [],
   "source": [
    "for L,G in zip([100, 100, 100, 100],[5, 10, 20, 50]):\n",
    "    print(f'L:{L}, G:{G}, {alon_matias_szegedy(df.host, L , G)}')"
   ]
  }
 ],
 "metadata": {
  "kernelspec": {
   "display_name": "Python 3",
   "language": "python",
   "name": "python3"
  },
  "language_info": {
   "codemirror_mode": {
    "name": "ipython",
    "version": 3
   },
   "file_extension": ".py",
   "mimetype": "text/x-python",
   "name": "python",
   "nbconvert_exporter": "python",
   "pygments_lexer": "ipython3",
   "version": "3.6.5"
  }
 },
 "nbformat": 4,
 "nbformat_minor": 2
}
