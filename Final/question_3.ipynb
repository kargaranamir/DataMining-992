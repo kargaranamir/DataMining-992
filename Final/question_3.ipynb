{
 "cells": [
  {
   "cell_type": "code",
   "execution_count": 1,
   "metadata": {},
   "outputs": [],
   "source": [
    "# All details in Pdf "
   ]
  },
  {
   "cell_type": "code",
   "execution_count": 5,
   "metadata": {},
   "outputs": [
    {
     "data": {
      "text/plain": [
       "array([[0.35355339, 0.35355339, 0.        ],\n",
       "       [0.        , 0.        , 0.35355339],\n",
       "       [0.        , 0.        , 0.35355339]])"
      ]
     },
     "execution_count": 5,
     "metadata": {},
     "output_type": "execute_result"
    }
   ],
   "source": [
    "import numpy as np\n",
    "W = np.array([[1, 0, 0],\n",
    "              [1, 0, 0],\n",
    "              [0, 1, 1]])\n",
    "\n",
    "X, Z, Y_T = np.linalg.svd(W)\n",
    "Z_pinv = np.linalg.pinv(np.diag(Z))\n",
    "U = Y_T.T @ Z_pinv ** 2 @ X.T\n",
    "U"
   ]
  },
  {
   "cell_type": "code",
   "execution_count": 23,
   "metadata": {},
   "outputs": [
    {
     "data": {
      "text/plain": [
       "array([[1.73205081, 0.        , 0.        ],\n",
       "       [0.        , 0.        , 1.        ],\n",
       "       [0.        , 1.22474487, 1.        ],\n",
       "       [0.        , 1.22474487, 1.        ]])"
      ]
     },
     "execution_count": 23,
     "metadata": {},
     "output_type": "execute_result"
    }
   ],
   "source": [
    "C = np.array([[np.sqrt(3), 0, 0],\n",
    "             [0, 0, 1],\n",
    "             [0, np.sqrt(3/2), 1],\n",
    "             [0, np.sqrt(3/2), 1]])\n",
    "C"
   ]
  },
  {
   "cell_type": "code",
   "execution_count": 25,
   "metadata": {},
   "outputs": [
    {
     "data": {
      "text/plain": [
       "array([[1.22474487, 1.        , 0.        , 0.        , 0.        ],\n",
       "       [1.22474487, 1.22474487, 0.        , 0.        , 0.        ],\n",
       "       [0.        , 0.        , 1.22474487, 0.        , 1.22474487]])"
      ]
     },
     "execution_count": 25,
     "metadata": {},
     "output_type": "execute_result"
    }
   ],
   "source": [
    "R = np.array ([[np.sqrt(3/2), 1, 0, 0, 0],\n",
    "               [np.sqrt(3/2),np.sqrt(3/2), 0,0,0],\n",
    "               [0,0,np.sqrt(3/2),0,np.sqrt(3/2)]])\n",
    "R"
   ]
  },
  {
   "cell_type": "code",
   "execution_count": 26,
   "metadata": {},
   "outputs": [
    {
     "data": {
      "text/plain": [
       "array([[1.5       , 1.36237244, 0.        , 0.        , 0.        ],\n",
       "       [0.        , 0.        , 0.4330127 , 0.        , 0.4330127 ],\n",
       "       [0.        , 0.        , 0.96334279, 0.        , 0.96334279],\n",
       "       [0.        , 0.        , 0.96334279, 0.        , 0.96334279]])"
      ]
     },
     "execution_count": 26,
     "metadata": {},
     "output_type": "execute_result"
    }
   ],
   "source": [
    "C @ U @ R"
   ]
  }
 ],
 "metadata": {
  "kernelspec": {
   "display_name": "Python 3",
   "language": "python",
   "name": "python3"
  },
  "language_info": {
   "codemirror_mode": {
    "name": "ipython",
    "version": 3
   },
   "file_extension": ".py",
   "mimetype": "text/x-python",
   "name": "python",
   "nbconvert_exporter": "python",
   "pygments_lexer": "ipython3",
   "version": "3.6.5"
  }
 },
 "nbformat": 4,
 "nbformat_minor": 2
}
