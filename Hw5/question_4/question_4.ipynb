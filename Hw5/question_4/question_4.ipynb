{
 "cells": [
  {
   "cell_type": "markdown",
   "metadata": {},
   "source": [
    "## Import Libraries"
   ]
  },
  {
   "cell_type": "code",
   "execution_count": 2,
   "metadata": {},
   "outputs": [],
   "source": [
    "import pandas as pd\n",
    "import numpy as np\n",
    "import matplotlib.pyplot as plt\n",
    "import csv\n",
    "from math import *"
   ]
  },
  {
   "cell_type": "markdown",
   "metadata": {},
   "source": [
    "## Merge datasets (compute average rating for each user and normalize)"
   ]
  },
  {
   "cell_type": "code",
   "execution_count": 3,
   "metadata": {},
   "outputs": [
    {
     "data": {
      "text/html": [
       "<div>\n",
       "<style scoped>\n",
       "    .dataframe tbody tr th:only-of-type {\n",
       "        vertical-align: middle;\n",
       "    }\n",
       "\n",
       "    .dataframe tbody tr th {\n",
       "        vertical-align: top;\n",
       "    }\n",
       "\n",
       "    .dataframe thead th {\n",
       "        text-align: right;\n",
       "    }\n",
       "</style>\n",
       "<table border=\"1\" class=\"dataframe\">\n",
       "  <thead>\n",
       "    <tr style=\"text-align: right;\">\n",
       "      <th></th>\n",
       "      <th>userId</th>\n",
       "      <th>nrating</th>\n",
       "      <th>movieId</th>\n",
       "      <th>title</th>\n",
       "    </tr>\n",
       "  </thead>\n",
       "  <tbody>\n",
       "    <tr>\n",
       "      <th>0</th>\n",
       "      <td>1</td>\n",
       "      <td>-0.366379</td>\n",
       "      <td>1</td>\n",
       "      <td>Toy Story (1995)</td>\n",
       "    </tr>\n",
       "    <tr>\n",
       "      <th>1</th>\n",
       "      <td>5</td>\n",
       "      <td>0.363636</td>\n",
       "      <td>1</td>\n",
       "      <td>Toy Story (1995)</td>\n",
       "    </tr>\n",
       "    <tr>\n",
       "      <th>2</th>\n",
       "      <td>7</td>\n",
       "      <td>1.269737</td>\n",
       "      <td>1</td>\n",
       "      <td>Toy Story (1995)</td>\n",
       "    </tr>\n",
       "    <tr>\n",
       "      <th>3</th>\n",
       "      <td>15</td>\n",
       "      <td>-0.948148</td>\n",
       "      <td>1</td>\n",
       "      <td>Toy Story (1995)</td>\n",
       "    </tr>\n",
       "    <tr>\n",
       "      <th>4</th>\n",
       "      <td>17</td>\n",
       "      <td>0.290476</td>\n",
       "      <td>1</td>\n",
       "      <td>Toy Story (1995)</td>\n",
       "    </tr>\n",
       "    <tr>\n",
       "      <th>...</th>\n",
       "      <td>...</td>\n",
       "      <td>...</td>\n",
       "      <td>...</td>\n",
       "      <td>...</td>\n",
       "    </tr>\n",
       "    <tr>\n",
       "      <th>100831</th>\n",
       "      <td>184</td>\n",
       "      <td>0.294776</td>\n",
       "      <td>193581</td>\n",
       "      <td>Black Butler: Book of the Atlantic (2017)</td>\n",
       "    </tr>\n",
       "    <tr>\n",
       "      <th>100832</th>\n",
       "      <td>184</td>\n",
       "      <td>-0.205224</td>\n",
       "      <td>193583</td>\n",
       "      <td>No Game No Life: Zero (2017)</td>\n",
       "    </tr>\n",
       "    <tr>\n",
       "      <th>100833</th>\n",
       "      <td>184</td>\n",
       "      <td>-0.205224</td>\n",
       "      <td>193585</td>\n",
       "      <td>Flint (2017)</td>\n",
       "    </tr>\n",
       "    <tr>\n",
       "      <th>100834</th>\n",
       "      <td>184</td>\n",
       "      <td>-0.205224</td>\n",
       "      <td>193587</td>\n",
       "      <td>Bungo Stray Dogs: Dead Apple (2018)</td>\n",
       "    </tr>\n",
       "    <tr>\n",
       "      <th>100835</th>\n",
       "      <td>331</td>\n",
       "      <td>0.372024</td>\n",
       "      <td>193609</td>\n",
       "      <td>Andrew Dice Clay: Dice Rules (1991)</td>\n",
       "    </tr>\n",
       "  </tbody>\n",
       "</table>\n",
       "<p>100836 rows × 4 columns</p>\n",
       "</div>"
      ],
      "text/plain": [
       "        userId   nrating  movieId                                      title\n",
       "0            1 -0.366379        1                           Toy Story (1995)\n",
       "1            5  0.363636        1                           Toy Story (1995)\n",
       "2            7  1.269737        1                           Toy Story (1995)\n",
       "3           15 -0.948148        1                           Toy Story (1995)\n",
       "4           17  0.290476        1                           Toy Story (1995)\n",
       "...        ...       ...      ...                                        ...\n",
       "100831     184  0.294776   193581  Black Butler: Book of the Atlantic (2017)\n",
       "100832     184 -0.205224   193583               No Game No Life: Zero (2017)\n",
       "100833     184 -0.205224   193585                               Flint (2017)\n",
       "100834     184 -0.205224   193587        Bungo Stray Dogs: Dead Apple (2018)\n",
       "100835     331  0.372024   193609        Andrew Dice Clay: Dice Rules (1991)\n",
       "\n",
       "[100836 rows x 4 columns]"
      ]
     },
     "execution_count": 3,
     "metadata": {},
     "output_type": "execute_result"
    }
   ],
   "source": [
    "ratings = pd.read_csv('./ml-latest-small/ratings.csv')    \n",
    "movies = pd.read_csv('./ml-latest-small/movies.csv') \n",
    "\n",
    "mean_rating_user = ratings[[\"userId\", \"rating\"]].groupby(\"userId\").agg(np.average)\n",
    "ratings[\"nrating\"] = ratings.apply(lambda row: (row[\"rating\"] - mean_rating_user.at[int(row[\"userId\"]), \"rating\"]), axis=1)\n",
    "\n",
    "df = pd.merge(movies, ratings, on='movieId')\n",
    "df = df[['userId','nrating','movieId','title']]\n",
    "df"
   ]
  },
  {
   "cell_type": "markdown",
   "metadata": {},
   "source": [
    "## set of movie titles and users id "
   ]
  },
  {
   "cell_type": "code",
   "execution_count": 3,
   "metadata": {},
   "outputs": [],
   "source": [
    "movies_list = set(df['title'])\n",
    "users_list = set(df['userId'])"
   ]
  },
  {
   "cell_type": "markdown",
   "metadata": {},
   "source": [
    "## make a crosstab matrix user-item "
   ]
  },
  {
   "cell_type": "code",
   "execution_count": 4,
   "metadata": {},
   "outputs": [],
   "source": [
    "df2 = pd.crosstab(df.movieId, df.userId, df.nrating, aggfunc=np.sum)"
   ]
  },
  {
   "cell_type": "markdown",
   "metadata": {},
   "source": [
    "## define distance function "
   ]
  },
  {
   "cell_type": "code",
   "execution_count": 5,
   "metadata": {},
   "outputs": [],
   "source": [
    "MAX_DISTANCE = 5.01\n",
    "def euclidean_distance(v1, v2):\n",
    "    x = [(i,j) for i, j in zip(v1,v2) if (not isnan(i) and  not isnan(j))]\n",
    "    distance = sum((p-q)**2 for p, q in x)\n",
    "    if len(x)!=0:\n",
    "        distance = sqrt(distance / len(x))\n",
    "    else:\n",
    "        distance = MAX_DISTANCE   \n",
    "    return distance"
   ]
  },
  {
   "cell_type": "markdown",
   "metadata": {},
   "source": [
    "## create a dic for each user from the watched movies and his rating"
   ]
  },
  {
   "cell_type": "code",
   "execution_count": 6,
   "metadata": {},
   "outputs": [],
   "source": [
    "data = {}\n",
    "for m in users_list:\n",
    "    df_user = df[df['userId'] == m]\n",
    "    data[m] = dict(zip(df_user.title, df_user.nrating))"
   ]
  },
  {
   "cell_type": "markdown",
   "metadata": {},
   "source": [
    "## find the the top similar users by finding their distance (this distance is computed among common movies that both users seen)"
   ]
  },
  {
   "cell_type": "code",
   "execution_count": 7,
   "metadata": {},
   "outputs": [],
   "source": [
    "NUMNER_OF_SIMILAR_USERS = 10\n",
    "def simliar_users(user):\n",
    "    list_distances = []\n",
    "    for u in users_list:\n",
    "        if not u == user:\n",
    "            distance = euclidean_distance(df2[user],df2[u])\n",
    "            list_distances.append((u, distance))\n",
    "    list_distances.sort(key = lambda x: x[1])\n",
    "    return list_distances[:NUMNER_OF_SIMILAR_USERS]"
   ]
  },
  {
   "cell_type": "markdown",
   "metadata": {},
   "source": [
    "## recommend 3 movie to input user\n",
    "- find top similar users\n",
    "- find all movies they watched\n",
    "- merge their score to each common movies and create a final score for eac movie\n",
    "- sort movies by final scroes\n",
    "- recoomened 3 movies the input user didnt see it "
   ]
  },
  {
   "cell_type": "code",
   "execution_count": 8,
   "metadata": {},
   "outputs": [],
   "source": [
    "def recommend_user(user):\n",
    "    top_similar_users = [i[0] for i in simliar_users(user)]\n",
    "    dicts_items = [data[i] for i in top_similar_users]\n",
    "\n",
    "    # sum over ratings of similar users\n",
    "    dict_scores = {}\n",
    "    for i in dicts_items:\n",
    "        for j in i.keys():\n",
    "            dict_scores[j] = dict_scores.get(j, 0) + i[j]\n",
    "    \n",
    "    list_recom = []\n",
    "    for item in dict_scores.keys():\n",
    "        if item not in data[user].keys():\n",
    "            list_recom.append((item, dict_scores[item]))\n",
    "    list_recom.sort(key=lambda x: x[1], reverse=True)\n",
    "    return list_recom[:3]"
   ]
  },
  {
   "cell_type": "code",
   "execution_count": 9,
   "metadata": {},
   "outputs": [
    {
     "data": {
      "text/plain": [
       "[('Dark Knight, The (2008)', 3.0330783036240088),\n",
       " ('Interstellar (2014)', 2.6499277130206926),\n",
       " ('Titanic (1997)', 1.7439024390243905)]"
      ]
     },
     "execution_count": 9,
     "metadata": {},
     "output_type": "execute_result"
    }
   ],
   "source": [
    "recommend_user(1)"
   ]
  },
  {
   "cell_type": "code",
   "execution_count": 10,
   "metadata": {},
   "outputs": [
    {
     "data": {
      "text/plain": [
       "[('Matrix, The (1999)', 6.768384643577674),\n",
       " ('Godfather, The (1972)', 5.396258206796066),\n",
       " ('Star Wars: Episode V - The Empire Strikes Back (1980)', 4.768384643577675)]"
      ]
     },
     "execution_count": 10,
     "metadata": {},
     "output_type": "execute_result"
    }
   ],
   "source": [
    "recommend_user(3)"
   ]
  },
  {
   "cell_type": "code",
   "execution_count": 11,
   "metadata": {},
   "outputs": [
    {
     "data": {
      "text/plain": [
       "[('Braveheart (1995)', 3.155707038059979),\n",
       " ('Aladdin (1992)', 2.145446507515473),\n",
       " ('Seven (a.k.a. Se7en) (1995)', 2.027501909854851)]"
      ]
     },
     "execution_count": 11,
     "metadata": {},
     "output_type": "execute_result"
    }
   ],
   "source": [
    "recommend_user(50)"
   ]
  }
 ],
 "metadata": {
  "kernelspec": {
   "display_name": "Python 3",
   "language": "python",
   "name": "python3"
  },
  "language_info": {
   "codemirror_mode": {
    "name": "ipython",
    "version": 3
   },
   "file_extension": ".py",
   "mimetype": "text/x-python",
   "name": "python",
   "nbconvert_exporter": "python",
   "pygments_lexer": "ipython3",
   "version": "3.6.5"
  }
 },
 "nbformat": 4,
 "nbformat_minor": 5
}
