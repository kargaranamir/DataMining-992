{
 "cells": [
  {
   "cell_type": "markdown",
   "metadata": {},
   "source": [
    "## Import Libraries"
   ]
  },
  {
   "cell_type": "code",
   "execution_count": 8,
   "metadata": {},
   "outputs": [],
   "source": [
    "import networkx as nx\n",
    "import re\n",
    "import matplotlib.pyplot as plt\n",
    "import numpy as np\n",
    "import scipy.sparse as sp\n",
    "from sklearn.preprocessing import normalize"
   ]
  },
  {
   "cell_type": "markdown",
   "metadata": {},
   "source": [
    "## Part1:"
   ]
  },
  {
   "cell_type": "code",
   "execution_count": 9,
   "metadata": {},
   "outputs": [],
   "source": [
    "G = nx.DiGraph()\n",
    "\n",
    "# make graph \n",
    "with open('friendship-data.txt') as fp:\n",
    "    #read every line\n",
    "    for line in fp:\n",
    "        # create a list from each line with possible numbers! \n",
    "        l = [int(f) for f in re.split(',|\\s',line) if f.isdigit()]\n",
    "        # set first number of list as source and others as destination\n",
    "        if len(l[1:])==0:\n",
    "            G.add_node(l[0])\n",
    "        else:\n",
    "            for e in l[1:]:\n",
    "                G.add_edge(l[0], e)"
   ]
  },
  {
   "cell_type": "code",
   "execution_count": 10,
   "metadata": {},
   "outputs": [
    {
     "name": "stdout",
     "output_type": "stream",
     "text": [
      " number of edges:661596, number of nodes:49995\n"
     ]
    }
   ],
   "source": [
    "print(f\" number of edges:{G.number_of_edges()}, number of nodes:{G.number_of_nodes()}\")"
   ]
  },
  {
   "cell_type": "markdown",
   "metadata": {},
   "source": [
    "## Part2:"
   ]
  },
  {
   "cell_type": "code",
   "execution_count": 11,
   "metadata": {},
   "outputs": [
    {
     "data": {
      "text/plain": [
       "(array([9378., 7458., 8392., 4192., 4592., 2296., 2733., 1381., 1673.,\n",
       "         924., 1126.,  577.,  717.,  420.,  534.,  317.,  347.,  210.,\n",
       "         268.,  189.,  237.,  150.,  178.,  108.,  133.,   68.,  107.,\n",
       "          65.,   77.,   56.,   81.,   43.,   65.,   40.,   44.,   34.,\n",
       "          42.,   27.,   39.,  677.]),\n",
       " array([  0.,   5.,  10.,  15.,  20.,  25.,  30.,  35.,  40.,  45.,  50.,\n",
       "         55.,  60.,  65.,  70.,  75.,  80.,  85.,  90.,  95., 100., 105.,\n",
       "        110., 115., 120., 125., 130., 135., 140., 145., 150., 155., 160.,\n",
       "        165., 170., 175., 180., 185., 190., 195., 200.]),\n",
       " <BarContainer object of 40 artists>)"
      ]
     },
     "execution_count": 11,
     "metadata": {},
     "output_type": "execute_result"
    },
    {
     "data": {
      "image/png": "[encoded data removed]",
      "text/plain": [
       "<Figure size 432x288 with 1 Axes>"
      ]
     },
     "metadata": {},
     "output_type": "display_data"
    }
   ],
   "source": [
    "degree_sequence = sorted(map(lambda v: v[1], nx.degree(G)), reverse=True) \n",
    "plt.hist(degree_sequence, bins=40)"
   ]
  },
  {
   "cell_type": "code",
   "execution_count": 12,
   "metadata": {},
   "outputs": [
    {
     "data": {
      "text/plain": [
       "26.466486648664866"
      ]
     },
     "execution_count": 12,
     "metadata": {},
     "output_type": "execute_result"
    }
   ],
   "source": [
    "# average degree of nodes\n",
    "np.mean(degree_sequence)"
   ]
  },
  {
   "cell_type": "markdown",
   "metadata": {},
   "source": [
    "## Part3"
   ]
  },
  {
   "cell_type": "code",
   "execution_count": 13,
   "metadata": {},
   "outputs": [],
   "source": [
    "pr = nx.pagerank(G, alpha=1)"
   ]
  },
  {
   "cell_type": "code",
   "execution_count": 14,
   "metadata": {},
   "outputs": [
    {
     "name": "stdout",
     "output_type": "stream",
     "text": [
      "46039 0.0002241990109636849\n",
      "26853 0.00020934307579999347\n",
      "20283 0.00020841686643162974\n",
      "45870 0.0002047247204412644\n",
      "25537 0.00020431734453571363\n",
      "13426 0.00020384352288221216\n",
      "7884 0.00020337926759949736\n",
      "7458 0.0002025808432659021\n",
      "3134 0.00020186277943520873\n",
      "24966 0.00019859242123662003\n"
     ]
    }
   ],
   "source": [
    "for key in sorted(pr, key=lambda k: pr[k] , reverse=True)[:10]:\n",
    "    print(key, pr[key])"
   ]
  },
  {
   "cell_type": "markdown",
   "metadata": {},
   "source": [
    "## Part 4 (all pathes printed with max length among shortest pathes from 9842)"
   ]
  },
  {
   "cell_type": "code",
   "execution_count": 15,
   "metadata": {},
   "outputs": [],
   "source": [
    "path = nx.single_source_shortest_path(G, 8942)"
   ]
  },
  {
   "cell_type": "code",
   "execution_count": 16,
   "metadata": {},
   "outputs": [],
   "source": [
    "max_length = 0 \n",
    "for i in range(0, len(path)):\n",
    "    try:\n",
    "        max_length = max(len(path[i]), max_length)\n",
    "    except:\n",
    "        pass"
   ]
  },
  {
   "cell_type": "code",
   "execution_count": 17,
   "metadata": {},
   "outputs": [
    {
     "name": "stdout",
     "output_type": "stream",
     "text": [
      "[8942, 8938, 8944, 13306, 22606, 1110, 1930, 1929, 1932, 1315, 1316]\n",
      "[8942, 8938, 8944, 13306, 13430, 24446, 16470, 17699, 16778, 16752, 16753]\n",
      "[8942, 8938, 8944, 13306, 13430, 24446, 16470, 17699, 16778, 16752, 16754]\n",
      "[8942, 8938, 8944, 13306, 13430, 24446, 16470, 17699, 16778, 16752, 16755]\n",
      "[8942, 8938, 8944, 13306, 13430, 24446, 16470, 17699, 16778, 16752, 16757]\n",
      "[8942, 8938, 8944, 13306, 13430, 24446, 16470, 17699, 16778, 16752, 16758]\n",
      "[8942, 8938, 8944, 13306, 13430, 24446, 16470, 17699, 16778, 16752, 16759]\n",
      "[8942, 8938, 8944, 13306, 13430, 24446, 16470, 17699, 16778, 16752, 16760]\n",
      "[8942, 8938, 8944, 13306, 13430, 24446, 16470, 17699, 16778, 16752, 16761]\n",
      "[8942, 8938, 8944, 13306, 13430, 24446, 16470, 17699, 16778, 16752, 16762]\n",
      "[8942, 8938, 8944, 13306, 13430, 24446, 16470, 17699, 16778, 16752, 16764]\n",
      "[8942, 8938, 8944, 13306, 13430, 24446, 16470, 17699, 16778, 16752, 16766]\n",
      "[8942, 8938, 8944, 13306, 13430, 24446, 16470, 17699, 16778, 16752, 16767]\n",
      "[8942, 8938, 8944, 13306, 13430, 24446, 16470, 17699, 16778, 16752, 16768]\n",
      "[8942, 8938, 8944, 13306, 13430, 24446, 16470, 17699, 16778, 16752, 16770]\n",
      "[8942, 8938, 8944, 13306, 13430, 24446, 16470, 17699, 16778, 16752, 16773]\n",
      "[8942, 8938, 8944, 13306, 13430, 24446, 16470, 17699, 16778, 16752, 16774]\n",
      "[8942, 8938, 8944, 13306, 13430, 24446, 16470, 17699, 16778, 16752, 16775]\n",
      "[8942, 8938, 8944, 13306, 13430, 24446, 16470, 17699, 16778, 16752, 16779]\n",
      "[8942, 8938, 8944, 13306, 13430, 24446, 16470, 17699, 16778, 16752, 16780]\n",
      "[8942, 8938, 8944, 13306, 13430, 24446, 16470, 17699, 16778, 16752, 16781]\n",
      "[8942, 8938, 8944, 13306, 13430, 24446, 16470, 17699, 16778, 16752, 16782]\n",
      "[8942, 8938, 8944, 13306, 13430, 24446, 16470, 17699, 16778, 16752, 16783]\n",
      "[8942, 8938, 8944, 13306, 13430, 24446, 16470, 17699, 16778, 16752, 16784]\n",
      "[8942, 8938, 8944, 13306, 13430, 24446, 16470, 17699, 16778, 16752, 16785]\n",
      "[8942, 8938, 8944, 13306, 13430, 24446, 16470, 17699, 16778, 16752, 16786]\n",
      "[8942, 8938, 8944, 13306, 13430, 24446, 16470, 17699, 16778, 16752, 16787]\n",
      "[8942, 8938, 8944, 13306, 13430, 24446, 16470, 17699, 16778, 16752, 16788]\n",
      "[8942, 8938, 8944, 13306, 390, 24201, 20584, 2185, 18142, 18141, 18143]\n",
      "[8942, 8938, 8944, 13306, 390, 24201, 20584, 2185, 18142, 18141, 18144]\n",
      "[8942, 8938, 8944, 13306, 390, 24201, 20584, 2185, 18142, 18141, 18145]\n",
      "[8942, 8938, 8944, 13306, 17886, 29819, 14581, 14577, 14587, 18427, 18428]\n",
      "[8942, 8938, 8944, 13306, 17886, 29819, 14581, 14577, 14587, 18427, 18429]\n",
      "[8942, 8938, 8944, 13306, 17886, 29819, 14581, 14577, 14587, 18427, 18430]\n",
      "[8942, 8938, 8944, 35523, 6016, 25193, 6679, 44218, 44135, 44134, 44226]\n"
     ]
    }
   ],
   "source": [
    "for i in range(0, len(path)):\n",
    "    try:\n",
    "        if len(path[i]) == max_length:\n",
    "            print(path[i])\n",
    "    except:\n",
    "        pass"
   ]
  },
  {
   "cell_type": "markdown",
   "metadata": {},
   "source": [
    "## Part 5: (algorithm with this parameters explained in Question5)/"
   ]
  },
  {
   "cell_type": "code",
   "execution_count": 45,
   "metadata": {},
   "outputs": [],
   "source": [
    "def page_rank(G, alpha, teleport_indices=None, threshold=1e-12, max_iter = 1000):\n",
    "    M = nx.to_scipy_sparse_matrix(G)\n",
    "    n = M.shape[0]\n",
    "    v = np.ones(n)/n\n",
    "\n",
    "    teleport_set_penalty = np.zeros(n)\n",
    "    \n",
    "    if teleport_indices is None:              \n",
    "        teleport_set_penalty = (1 - alpha) * np.ones(n)/n\n",
    "    else:\n",
    "        teleport_set_penalty[teleport_indices] = (1 - alpha) * 1/len(teleport_indices)\n",
    "\n",
    "    M = normalize(M, norm='l1', axis=1)\n",
    "    v2 = np.zeros(n) \n",
    "\n",
    "    count = 0 \n",
    "    while np.linalg.norm(v - v2) >= threshold:\n",
    "        if (count> max_iter):\n",
    "            break\n",
    "        v2 = v\n",
    "        v = alpha * M.T.dot(v2) + teleport_set_penalty\n",
    "        count +=1\n",
    "    return v"
   ]
  },
  {
   "cell_type": "code",
   "execution_count": 23,
   "metadata": {},
   "outputs": [],
   "source": [
    "t_set = [i for i in G if G.out_degree(i) > 20]\n",
    "x = page_rank(G, 0.9, teleport_indices=t_set, threshold=1e-12, max_iter= 100)"
   ]
  },
  {
   "cell_type": "code",
   "execution_count": 51,
   "metadata": {},
   "outputs": [
    {
     "name": "stdout",
     "output_type": "stream",
     "text": [
      "page rank node 10000 in matrix with start by index 0: 2.962566215696646e-05\n"
     ]
    }
   ],
   "source": [
    "print(f\"page rank node 10000 in matrix with start by index 0: {x[10000]}\")"
   ]
  },
  {
   "cell_type": "markdown",
   "metadata": {},
   "source": [
    "## Question 5"
   ]
  },
  {
   "cell_type": "code",
   "execution_count": 42,
   "metadata": {},
   "outputs": [],
   "source": [
    "matrix_q5 = np.array([\n",
    "    [1,0,0,1,1,1], \n",
    "    [0,1,0,1,1,1],\n",
    "    [0,0,1,1,1,1],\n",
    "    [0,0,0,1,0,0],\n",
    "    [0,0,0,0,1,0],\n",
    "    [0,0,0,0,0,1]])"
   ]
  },
  {
   "cell_type": "code",
   "execution_count": 43,
   "metadata": {},
   "outputs": [],
   "source": [
    "G_q5 = nx.from_numpy_matrix(matrix_q5, create_using=nx.DiGraph())"
   ]
  },
  {
   "cell_type": "markdown",
   "metadata": {},
   "source": [
    "### Tax 0"
   ]
  },
  {
   "cell_type": "code",
   "execution_count": 48,
   "metadata": {},
   "outputs": [
    {
     "data": {
      "text/plain": [
       "[3.789561257387201e-14,\n",
       " 3.789561257387201e-14,\n",
       " 3.789561257387201e-14,\n",
       " 0.3333333333332954,\n",
       " 0.3333333333332954,\n",
       " 0.3333333333332954]"
      ]
     },
     "execution_count": 48,
     "metadata": {},
     "output_type": "execute_result"
    }
   ],
   "source": [
    "list(page_rank(G_q5, 1, threshold=1e-12, max_iter= 100))"
   ]
  },
  {
   "cell_type": "markdown",
   "metadata": {},
   "source": [
    "### Tax = 0.5"
   ]
  },
  {
   "cell_type": "code",
   "execution_count": 49,
   "metadata": {},
   "outputs": [
    {
     "data": {
      "text/plain": [
       "[0.09523809523811147,\n",
       " 0.09523809523811147,\n",
       " 0.09523809523811147,\n",
       " 0.23809523809522182,\n",
       " 0.23809523809522182,\n",
       " 0.23809523809522182]"
      ]
     },
     "execution_count": 49,
     "metadata": {},
     "output_type": "execute_result"
    }
   ],
   "source": [
    "list(page_rank(G_q5, 0.5, threshold=1e-12, max_iter= 100))"
   ]
  }
 ],
 "metadata": {
  "kernelspec": {
   "display_name": "Python 3",
   "language": "python",
   "name": "python3"
  },
  "language_info": {
   "codemirror_mode": {
    "name": "ipython",
    "version": 3
   },
   "file_extension": ".py",
   "mimetype": "text/x-python",
   "name": "python",
   "nbconvert_exporter": "python",
   "pygments_lexer": "ipython3",
   "version": "3.6.5"
  }
 },
 "nbformat": 4,
 "nbformat_minor": 2
}
