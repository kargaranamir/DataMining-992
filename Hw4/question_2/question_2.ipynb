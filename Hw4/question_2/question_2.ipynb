{
 "cells": [
  {
   "cell_type": "markdown",
   "metadata": {},
   "source": [
    "## Amirhossein Kargaran Khouzani (stu no: 99201119)"
   ]
  },
  {
   "cell_type": "markdown",
   "metadata": {},
   "source": [
    "## Import libraries"
   ]
  },
  {
   "cell_type": "code",
   "execution_count": 1,
   "metadata": {},
   "outputs": [],
   "source": [
    "! pip install kneed"
   ]
  },
  {
   "cell_type": "code",
   "execution_count": 2,
   "metadata": {},
   "outputs": [],
   "source": [
    "from sklearn import neighbors, datasets, metrics\n",
    "import pandas as pd\n",
    "import numpy as np\n",
    "import matplotlib.pyplot as plt\n",
    "from kneed import KneeLocator\n",
    "np.random.seed(5)"
   ]
  },
  {
   "cell_type": "code",
   "execution_count": 3,
   "metadata": {},
   "outputs": [],
   "source": [
    "iris = datasets.load_iris()\n",
    "x = iris.data\n",
    "y = iris.target"
   ]
  },
  {
   "cell_type": "markdown",
   "metadata": {},
   "source": [
    "## Part 1"
   ]
  },
  {
   "cell_type": "code",
   "execution_count": 4,
   "metadata": {},
   "outputs": [],
   "source": [
    "def dbScan(dataset, eps, n):\n",
    "    cluster_i = -1 \n",
    "\n",
    "    # create a sequence of zeroes showing status of dataset points(classified or not): status, and labels as clusters\n",
    "    status = np.zeros(len(dataset))\n",
    "    clusters = np.zeros(len(dataset))\n",
    "\n",
    "    # create a sequence of zeroes showing count of neighbours to a sample within range eps: neighbour_count\n",
    "    # from distance matrix, find all neighbours within distance eps\n",
    "    possible_neigh = metrics.pairwise_distances(dataset) <= eps\n",
    "    # update sequence neighbour_count\n",
    "    neighbour_count = list(sum(possible_neigh))\n",
    "\n",
    "    \n",
    "    for i in range(len(dataset)):\n",
    "        # if i is not classified then\n",
    "        if status[i] == 0:\n",
    "            # update status as labeled\n",
    "            status[i] = 1\n",
    "            # if neighbour_count[i] < n then this sample is clustersed -1 (noise)\n",
    "            if neighbour_count[i] < n:\n",
    "                clusters[i] = -1\n",
    "            else:\n",
    "                # this sample is labaled with cluster_i\n",
    "                cluster_i += 1\n",
    "                clusters[i] = cluster_i\n",
    "                # create a sequence of neighbours for i: neighbourhood_members\n",
    "                neighbourhood_members = list(np.where(possible_neigh[i] == True)[0])\n",
    "                # while neighbourhood_members is not empty do\n",
    "                while len(neighbourhood_members) > 0:\n",
    "                    # consider first neighbourhood_members point and call it j\n",
    "                    j = neighbourhood_members[0]\n",
    "                    # update status as labeled\n",
    "                    status[j] = 1\n",
    "                    if(neighbour_count[j] < n):\n",
    "                        clusters[j] = -1\n",
    "                    else:\n",
    "                        # check neighbours and extend new neighbours from each of them \n",
    "                        neighbours_j = np.where(possible_neigh[j] == True)[0]\n",
    "                        for n_j in neighbours_j:\n",
    "                            if n_j not in neighbourhood_members and status[n_j]== 0:\n",
    "                                neighbourhood_members.append(n_j)\n",
    "                        clusters[j] = cluster_i\n",
    "                    # remove first point of neighbourhood_members (j)\n",
    "                    neighbourhood_members.remove(j)\n",
    "    return clusters"
   ]
  },
  {
   "cell_type": "markdown",
   "metadata": {},
   "source": [
    "## Part 2"
   ]
  },
  {
   "cell_type": "code",
   "execution_count": 5,
   "metadata": {},
   "outputs": [],
   "source": [
    "k = 4"
   ]
  },
  {
   "cell_type": "code",
   "execution_count": 6,
   "metadata": {},
   "outputs": [
    {
     "data": {
      "image/png": "[encoded data removed]",
      "text/plain": [
       "<Figure size 432x288 with 1 Axes>"
      ]
     },
     "metadata": {},
     "output_type": "display_data"
    },
    {
     "name": "stdout",
     "output_type": "stream",
     "text": [
      " knee y: 0.5477225575051664\n"
     ]
    }
   ],
   "source": [
    "neigh = neighbors.NearestNeighbors(n_neighbors = k)\n",
    "nbrs = neigh.fit(x)\n",
    "neigh_dist, neigh_ind = nbrs.kneighbors(x)\n",
    "neigh_dist = sorted(neigh_dist[:,k-1])\n",
    "plt.plot(neigh_dist)\n",
    "plt.show()\n",
    "knee_y = KneeLocator(range(len(neigh_dist)), neigh_dist, curve='convex', direction='increasing').knee_y\n",
    "print(f\" knee y: {knee_y}\")"
   ]
  },
  {
   "cell_type": "markdown",
   "metadata": {},
   "source": [
    "## Part 4"
   ]
  },
  {
   "cell_type": "code",
   "execution_count": 7,
   "metadata": {},
   "outputs": [],
   "source": [
    "scratch_labels = dbScan(x, knee_y, k)"
   ]
  },
  {
   "cell_type": "code",
   "execution_count": 8,
   "metadata": {},
   "outputs": [
    {
     "name": "stdout",
     "output_type": "stream",
     "text": [
      "classification report:\n",
      "              precision    recall  f1-score   support\n",
      "\n",
      "        -1.0       0.00      0.00      0.00         0\n",
      "         0.0       1.00      0.94      0.97        50\n",
      "         1.0       0.53      0.88      0.66        50\n",
      "         2.0       0.00      0.00      0.00        50\n",
      "\n",
      "    accuracy                           0.61       150\n",
      "   macro avg       0.38      0.45      0.41       150\n",
      "weighted avg       0.51      0.61      0.54       150\n",
      "\n",
      "cohen_kappa_score: 0.44339622641509435\n",
      "confusion_matrix:\n",
      "[[ 0  0  0  0]\n",
      " [ 3 47  0  0]\n",
      " [ 4  0 44  2]\n",
      " [11  0 39  0]]\n"
     ]
    },
    {
     "name": "stderr",
     "output_type": "stream",
     "text": [
      "c:\\users\\ferodo\\appdata\\local\\programs\\python\\python36\\lib\\site-packages\\sklearn\\metrics\\classification.py:1439: UndefinedMetricWarning: Recall and F-score are ill-defined and being set to 0.0 in labels with no true samples.\n",
      "  'recall', 'true', average, warn_for)\n"
     ]
    }
   ],
   "source": [
    "print(f\"classification report:\\n{metrics.classification_report(y, scratch_labels)}\")\n",
    "print(f\"cohen_kappa_score: {metrics.cohen_kappa_score(y, scratch_labels)}\")\n",
    "print(f\"confusion_matrix:\\n{metrics.confusion_matrix(y, scratch_labels)}\")\n"
   ]
  }
 ],
 "metadata": {
  "kernelspec": {
   "display_name": "Python 3",
   "language": "python",
   "name": "python3"
  },
  "language_info": {
   "codemirror_mode": {
    "name": "ipython",
    "version": 3
   },
   "file_extension": ".py",
   "mimetype": "text/x-python",
   "name": "python",
   "nbconvert_exporter": "python",
   "pygments_lexer": "ipython3",
   "version": "3.6.5"
  }
 },
 "nbformat": 4,
 "nbformat_minor": 2
}
